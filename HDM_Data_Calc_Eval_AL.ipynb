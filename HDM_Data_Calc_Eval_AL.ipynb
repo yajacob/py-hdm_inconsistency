{
 "cells": [
  {
   "cell_type": "code",
   "execution_count": 1,
   "metadata": {
    "collapsed": true
   },
   "outputs": [],
   "source": [
    "import pandas as pd\n",
    "import numpy as np\n",
    "import json"
   ]
  },
  {
   "cell_type": "code",
   "execution_count": 2,
   "metadata": {
    "collapsed": true
   },
   "outputs": [],
   "source": [
    "def make_list(temp):\n",
    "    temp_list = temp.split(\"|\")\n",
    "    list = []\n",
    "    for tl in temp_list:\n",
    "        list.append(tl.split(\",\"))\n",
    "    return list\n"
   ]
  },
  {
   "cell_type": "code",
   "execution_count": 25,
   "metadata": {
    "collapsed": true
   },
   "outputs": [],
   "source": [
    "str_cr = 'CR10,Color,24|CR20,Memory,76|CR10,Color,72|CR30,Delivery,28|CR20,Memory,37|CR30,Delivery,63'\n",
    "str_fa = 'CR11,Pink,27|CR12,Blue,73|CR11,Pink,71|CR13,Yellow,29|CR12,Blue,30|CR13,Yellow,70|CR21,16GB,32|CR22,32GB,68|CR21,16GB,31|CR23,64GB,69|CR21,16GB,62|CR24,128GB,38|CR22,32GB,56|CR23,64GB,44|CR22,32GB,50|CR24,128GB,50|CR23,64GB,57|CR24,128GB,43|CR31,USPS,27|CR32,UPS,73|CR31,USPS,67|CR33,FedEx,33|CR32,UPS,30|CR33,FedEx,70'\n",
    "str_al = 'CR111,Samsung,32|CR112,LG,68|CR111,Samsung,58|CR113,Sony,42|CR111,Samsung,21|CR114,Apple,79|CR112,LG,62|CR113,Sony,38|CR112,LG,57|CR114,Apple,43|CR113,Sony,69|CR114,Apple,31|CR121,Samsung,25|CR122,LG,75|CR121,Samsung,36|CR123,Sony,64|CR121,Samsung,59|CR124,Apple,41|CR122,LG,58|CR123,Sony,42|CR122,LG,48|CR124,Apple,52|CR123,Sony,60|CR124,Apple,40|CR131,Samsung,36|CR132,LG,64|CR131,Samsung,56|CR133,Sony,44|CR131,Samsung,57|CR134,Apple,43|CR132,LG,56|CR133,Sony,44|CR132,LG,32|CR134,Apple,68|CR133,Sony,42|CR134,Apple,58|CR211,Samsung,31|CR212,LG,69|CR211,Samsung,67|CR213,Sony,33|CR211,Samsung,64|CR214,Apple,36|CR212,LG,58|CR213,Sony,42|CR212,LG,56|CR214,Apple,44|CR213,Sony,64|CR214,Apple,36|CR221,Samsung,25|CR222,LG,75|CR221,Samsung,60|CR223,Sony,40|CR221,Samsung,22|CR224,Apple,78|CR222,LG,55|CR223,Sony,45|CR222,LG,33|CR224,Apple,67|CR223,Sony,60|CR224,Apple,40|CR311,Samsung,36|CR312,LG,64|CR311,Samsung,50|CR313,Sony,50|CR311,Samsung,32|CR314,Apple,68|CR312,LG,50|CR313,Sony,50|CR312,LG,56|CR314,Apple,44|CR313,Sony,37|CR314,Apple,63|CR321,Samsung,23|CR322,LG,77|CR321,Samsung,57|CR323,Sony,43|CR321,Samsung,58|CR324,Apple,42|CR322,LG,50|CR323,Sony,50|CR322,LG,32|CR324,Apple,68|CR323,Sony,62|CR324,Apple,38|CR231,Samsung,27|CR232,LG,73|CR231,Samsung,64|CR233,Sony,36|CR231,Samsung,31|CR234,Apple,69|CR232,LG,34|CR233,Sony,66|CR232,LG,60|CR234,Apple,40|CR233,Sony,70|CR234,Apple,30|CR241,Samsung,30|CR242,LG,70|CR241,Samsung,66|CR243,Sony,34|CR241,Samsung,27|CR244,Apple,73|CR242,LG,75|CR243,Sony,25|CR242,LG,16|CR244,Apple,84|CR243,Sony,75|CR244,Apple,25|CR331,Samsung,23|CR332,LG,77|CR331,Samsung,50|CR333,Sony,50|CR331,Samsung,36|CR334,Apple,64|CR332,LG,71|CR333,Sony,29|CR332,LG,36|CR334,Apple,64|CR333,Sony,53|CR334,Apple,47'"
   ]
  },
  {
   "cell_type": "code",
   "execution_count": 26,
   "metadata": {
    "collapsed": true
   },
   "outputs": [],
   "source": [
    "cr_list = make_list(str_cr)\n",
    "fa_list = make_list(str_fa)\n",
    "al_list = make_list(str_al)"
   ]
  },
  {
   "cell_type": "code",
   "execution_count": 27,
   "metadata": {
    "collapsed": true
   },
   "outputs": [],
   "source": [
    "df_cr = pd.DataFrame(cr_list)\n",
    "df_fa = pd.DataFrame(fa_list)\n",
    "df_al = pd.DataFrame(al_list)"
   ]
  },
  {
   "cell_type": "code",
   "execution_count": 28,
   "metadata": {},
   "outputs": [],
   "source": [
    "df_cr.columns = ['ecode', 'ename', 'eval']\n",
    "df_fa.columns = ['ecode', 'ename', 'eval']\n",
    "df_al.columns = ['ecode', 'ename', 'eval']"
   ]
  },
  {
   "cell_type": "code",
   "execution_count": 33,
   "metadata": {
    "collapsed": true
   },
   "outputs": [],
   "source": [
    "df_cr['cr'] = df_cr['ecode'].str[2]\n",
    "df_fa['cr'] = df_fa['ecode'].str[2]\n",
    "df_fa['fa'] = df_fa['ecode'].str[2:4]\n",
    "df_al['cr'] = df_al['ecode'].str[2]\n",
    "df_al['fa'] = df_al['ecode'].str[2:4]\n",
    "df_al['al'] = df_al['ecode'].str[4]"
   ]
  },
  {
   "cell_type": "code",
   "execution_count": 34,
   "metadata": {
    "collapsed": true
   },
   "outputs": [],
   "source": [
    "df_cr.drop(['ecode','eval'], inplace=True, axis=1)\n",
    "df_cr= df_cr.drop_duplicates(subset=['ename', 'cr'])"
   ]
  },
  {
   "cell_type": "code",
   "execution_count": 35,
   "metadata": {},
   "outputs": [
    {
     "data": {
      "text/html": [
       "<div>\n",
       "<table border=\"1\" class=\"dataframe\">\n",
       "  <thead>\n",
       "    <tr style=\"text-align: right;\">\n",
       "      <th></th>\n",
       "      <th>ename</th>\n",
       "      <th>cr</th>\n",
       "    </tr>\n",
       "  </thead>\n",
       "  <tbody>\n",
       "    <tr>\n",
       "      <th>0</th>\n",
       "      <td>Color</td>\n",
       "      <td>1</td>\n",
       "    </tr>\n",
       "    <tr>\n",
       "      <th>1</th>\n",
       "      <td>Memory</td>\n",
       "      <td>2</td>\n",
       "    </tr>\n",
       "    <tr>\n",
       "      <th>3</th>\n",
       "      <td>Delivery</td>\n",
       "      <td>3</td>\n",
       "    </tr>\n",
       "  </tbody>\n",
       "</table>\n",
       "</div>"
      ],
      "text/plain": [
       "      ename cr\n",
       "0     Color  1\n",
       "1    Memory  2\n",
       "3  Delivery  3"
      ]
     },
     "execution_count": 35,
     "metadata": {},
     "output_type": "execute_result"
    }
   ],
   "source": [
    "df_cr"
   ]
  },
  {
   "cell_type": "code",
   "execution_count": 9,
   "metadata": {},
   "outputs": [],
   "source": [
    "df_fa.drop(['ecode','eval'], inplace=True, axis=1)"
   ]
  },
  {
   "cell_type": "code",
   "execution_count": 39,
   "metadata": {},
   "outputs": [],
   "source": [
    "df_fa = df_fa[['fa', 'ename']]"
   ]
  },
  {
   "cell_type": "code",
   "execution_count": 43,
   "metadata": {},
   "outputs": [],
   "source": [
    "df_fa = df_fa.drop_duplicates(subset=['fa', 'ename'])"
   ]
  },
  {
   "cell_type": "code",
   "execution_count": 44,
   "metadata": {},
   "outputs": [
    {
     "data": {
      "text/html": [
       "<div>\n",
       "<table border=\"1\" class=\"dataframe\">\n",
       "  <thead>\n",
       "    <tr style=\"text-align: right;\">\n",
       "      <th></th>\n",
       "      <th>fa</th>\n",
       "      <th>ename</th>\n",
       "    </tr>\n",
       "  </thead>\n",
       "  <tbody>\n",
       "    <tr>\n",
       "      <th>0</th>\n",
       "      <td>11</td>\n",
       "      <td>Pink</td>\n",
       "    </tr>\n",
       "    <tr>\n",
       "      <th>1</th>\n",
       "      <td>12</td>\n",
       "      <td>Blue</td>\n",
       "    </tr>\n",
       "    <tr>\n",
       "      <th>3</th>\n",
       "      <td>13</td>\n",
       "      <td>Yellow</td>\n",
       "    </tr>\n",
       "    <tr>\n",
       "      <th>6</th>\n",
       "      <td>21</td>\n",
       "      <td>16GB</td>\n",
       "    </tr>\n",
       "    <tr>\n",
       "      <th>7</th>\n",
       "      <td>22</td>\n",
       "      <td>32GB</td>\n",
       "    </tr>\n",
       "  </tbody>\n",
       "</table>\n",
       "</div>"
      ],
      "text/plain": [
       "   fa   ename\n",
       "0  11    Pink\n",
       "1  12    Blue\n",
       "3  13  Yellow\n",
       "6  21    16GB\n",
       "7  22    32GB"
      ]
     },
     "execution_count": 44,
     "metadata": {},
     "output_type": "execute_result"
    }
   ],
   "source": [
    "df_fa.head()"
   ]
  },
  {
   "cell_type": "code",
   "execution_count": 45,
   "metadata": {},
   "outputs": [
    {
     "data": {
      "text/html": [
       "<div>\n",
       "<table border=\"1\" class=\"dataframe\">\n",
       "  <thead>\n",
       "    <tr style=\"text-align: right;\">\n",
       "      <th></th>\n",
       "      <th>ecode</th>\n",
       "      <th>ename</th>\n",
       "      <th>eval</th>\n",
       "      <th>cr</th>\n",
       "      <th>fa</th>\n",
       "      <th>al</th>\n",
       "    </tr>\n",
       "  </thead>\n",
       "  <tbody>\n",
       "    <tr>\n",
       "      <th>0</th>\n",
       "      <td>CR111</td>\n",
       "      <td>Samsung</td>\n",
       "      <td>32</td>\n",
       "      <td>1</td>\n",
       "      <td>11</td>\n",
       "      <td>1</td>\n",
       "    </tr>\n",
       "    <tr>\n",
       "      <th>1</th>\n",
       "      <td>CR112</td>\n",
       "      <td>LG</td>\n",
       "      <td>68</td>\n",
       "      <td>1</td>\n",
       "      <td>11</td>\n",
       "      <td>2</td>\n",
       "    </tr>\n",
       "    <tr>\n",
       "      <th>2</th>\n",
       "      <td>CR111</td>\n",
       "      <td>Samsung</td>\n",
       "      <td>58</td>\n",
       "      <td>1</td>\n",
       "      <td>11</td>\n",
       "      <td>1</td>\n",
       "    </tr>\n",
       "    <tr>\n",
       "      <th>3</th>\n",
       "      <td>CR113</td>\n",
       "      <td>Sony</td>\n",
       "      <td>42</td>\n",
       "      <td>1</td>\n",
       "      <td>11</td>\n",
       "      <td>3</td>\n",
       "    </tr>\n",
       "    <tr>\n",
       "      <th>4</th>\n",
       "      <td>CR111</td>\n",
       "      <td>Samsung</td>\n",
       "      <td>21</td>\n",
       "      <td>1</td>\n",
       "      <td>11</td>\n",
       "      <td>1</td>\n",
       "    </tr>\n",
       "  </tbody>\n",
       "</table>\n",
       "</div>"
      ],
      "text/plain": [
       "   ecode    ename eval cr  fa al\n",
       "0  CR111  Samsung   32  1  11  1\n",
       "1  CR112       LG   68  1  11  2\n",
       "2  CR111  Samsung   58  1  11  1\n",
       "3  CR113     Sony   42  1  11  3\n",
       "4  CR111  Samsung   21  1  11  1"
      ]
     },
     "execution_count": 45,
     "metadata": {},
     "output_type": "execute_result"
    }
   ],
   "source": [
    "df_al.head()"
   ]
  },
  {
   "cell_type": "code",
   "execution_count": 46,
   "metadata": {
    "collapsed": true
   },
   "outputs": [],
   "source": [
    "df_al = pd.merge(df_al, df_cr, how=\"inner\", left_on=\"cr\", right_on=\"cr\")"
   ]
  },
  {
   "cell_type": "code",
   "execution_count": 47,
   "metadata": {},
   "outputs": [
    {
     "data": {
      "text/html": [
       "<div>\n",
       "<table border=\"1\" class=\"dataframe\">\n",
       "  <thead>\n",
       "    <tr style=\"text-align: right;\">\n",
       "      <th></th>\n",
       "      <th>ecode</th>\n",
       "      <th>ename_x</th>\n",
       "      <th>eval</th>\n",
       "      <th>cr</th>\n",
       "      <th>fa</th>\n",
       "      <th>al</th>\n",
       "      <th>ename_y</th>\n",
       "    </tr>\n",
       "  </thead>\n",
       "  <tbody>\n",
       "    <tr>\n",
       "      <th>0</th>\n",
       "      <td>CR111</td>\n",
       "      <td>Samsung</td>\n",
       "      <td>32</td>\n",
       "      <td>1</td>\n",
       "      <td>11</td>\n",
       "      <td>1</td>\n",
       "      <td>Color</td>\n",
       "    </tr>\n",
       "    <tr>\n",
       "      <th>1</th>\n",
       "      <td>CR112</td>\n",
       "      <td>LG</td>\n",
       "      <td>68</td>\n",
       "      <td>1</td>\n",
       "      <td>11</td>\n",
       "      <td>2</td>\n",
       "      <td>Color</td>\n",
       "    </tr>\n",
       "    <tr>\n",
       "      <th>2</th>\n",
       "      <td>CR111</td>\n",
       "      <td>Samsung</td>\n",
       "      <td>58</td>\n",
       "      <td>1</td>\n",
       "      <td>11</td>\n",
       "      <td>1</td>\n",
       "      <td>Color</td>\n",
       "    </tr>\n",
       "    <tr>\n",
       "      <th>3</th>\n",
       "      <td>CR113</td>\n",
       "      <td>Sony</td>\n",
       "      <td>42</td>\n",
       "      <td>1</td>\n",
       "      <td>11</td>\n",
       "      <td>3</td>\n",
       "      <td>Color</td>\n",
       "    </tr>\n",
       "    <tr>\n",
       "      <th>4</th>\n",
       "      <td>CR111</td>\n",
       "      <td>Samsung</td>\n",
       "      <td>21</td>\n",
       "      <td>1</td>\n",
       "      <td>11</td>\n",
       "      <td>1</td>\n",
       "      <td>Color</td>\n",
       "    </tr>\n",
       "  </tbody>\n",
       "</table>\n",
       "</div>"
      ],
      "text/plain": [
       "   ecode  ename_x eval cr  fa al ename_y\n",
       "0  CR111  Samsung   32  1  11  1   Color\n",
       "1  CR112       LG   68  1  11  2   Color\n",
       "2  CR111  Samsung   58  1  11  1   Color\n",
       "3  CR113     Sony   42  1  11  3   Color\n",
       "4  CR111  Samsung   21  1  11  1   Color"
      ]
     },
     "execution_count": 47,
     "metadata": {},
     "output_type": "execute_result"
    }
   ],
   "source": [
    "df_al.head()"
   ]
  },
  {
   "cell_type": "code",
   "execution_count": 48,
   "metadata": {
    "collapsed": true
   },
   "outputs": [],
   "source": [
    "df_al = pd.merge(df_al, df_fa, how=\"inner\", left_on=\"fa\", right_on=\"fa\")"
   ]
  },
  {
   "cell_type": "code",
   "execution_count": 49,
   "metadata": {},
   "outputs": [
    {
     "data": {
      "text/html": [
       "<div>\n",
       "<table border=\"1\" class=\"dataframe\">\n",
       "  <thead>\n",
       "    <tr style=\"text-align: right;\">\n",
       "      <th></th>\n",
       "      <th>ecode</th>\n",
       "      <th>ename_x</th>\n",
       "      <th>eval</th>\n",
       "      <th>cr</th>\n",
       "      <th>fa</th>\n",
       "      <th>al</th>\n",
       "      <th>ename_y</th>\n",
       "      <th>ename</th>\n",
       "    </tr>\n",
       "  </thead>\n",
       "  <tbody>\n",
       "    <tr>\n",
       "      <th>0</th>\n",
       "      <td>CR111</td>\n",
       "      <td>Samsung</td>\n",
       "      <td>32</td>\n",
       "      <td>1</td>\n",
       "      <td>11</td>\n",
       "      <td>1</td>\n",
       "      <td>Color</td>\n",
       "      <td>Pink</td>\n",
       "    </tr>\n",
       "    <tr>\n",
       "      <th>1</th>\n",
       "      <td>CR112</td>\n",
       "      <td>LG</td>\n",
       "      <td>68</td>\n",
       "      <td>1</td>\n",
       "      <td>11</td>\n",
       "      <td>2</td>\n",
       "      <td>Color</td>\n",
       "      <td>Pink</td>\n",
       "    </tr>\n",
       "    <tr>\n",
       "      <th>2</th>\n",
       "      <td>CR111</td>\n",
       "      <td>Samsung</td>\n",
       "      <td>58</td>\n",
       "      <td>1</td>\n",
       "      <td>11</td>\n",
       "      <td>1</td>\n",
       "      <td>Color</td>\n",
       "      <td>Pink</td>\n",
       "    </tr>\n",
       "    <tr>\n",
       "      <th>3</th>\n",
       "      <td>CR113</td>\n",
       "      <td>Sony</td>\n",
       "      <td>42</td>\n",
       "      <td>1</td>\n",
       "      <td>11</td>\n",
       "      <td>3</td>\n",
       "      <td>Color</td>\n",
       "      <td>Pink</td>\n",
       "    </tr>\n",
       "    <tr>\n",
       "      <th>4</th>\n",
       "      <td>CR111</td>\n",
       "      <td>Samsung</td>\n",
       "      <td>21</td>\n",
       "      <td>1</td>\n",
       "      <td>11</td>\n",
       "      <td>1</td>\n",
       "      <td>Color</td>\n",
       "      <td>Pink</td>\n",
       "    </tr>\n",
       "  </tbody>\n",
       "</table>\n",
       "</div>"
      ],
      "text/plain": [
       "   ecode  ename_x eval cr  fa al ename_y ename\n",
       "0  CR111  Samsung   32  1  11  1   Color  Pink\n",
       "1  CR112       LG   68  1  11  2   Color  Pink\n",
       "2  CR111  Samsung   58  1  11  1   Color  Pink\n",
       "3  CR113     Sony   42  1  11  3   Color  Pink\n",
       "4  CR111  Samsung   21  1  11  1   Color  Pink"
      ]
     },
     "execution_count": 49,
     "metadata": {},
     "output_type": "execute_result"
    }
   ],
   "source": [
    "df_al.head()"
   ]
  },
  {
   "cell_type": "code",
   "execution_count": 50,
   "metadata": {
    "collapsed": true
   },
   "outputs": [],
   "source": [
    "df_al = df_al[['ename_y', 'ename', 'ename_x', 'eval']]"
   ]
  },
  {
   "cell_type": "code",
   "execution_count": 51,
   "metadata": {},
   "outputs": [
    {
     "data": {
      "text/html": [
       "<div>\n",
       "<table border=\"1\" class=\"dataframe\">\n",
       "  <thead>\n",
       "    <tr style=\"text-align: right;\">\n",
       "      <th></th>\n",
       "      <th>ename_y</th>\n",
       "      <th>ename</th>\n",
       "      <th>ename_x</th>\n",
       "      <th>eval</th>\n",
       "    </tr>\n",
       "  </thead>\n",
       "  <tbody>\n",
       "    <tr>\n",
       "      <th>0</th>\n",
       "      <td>Color</td>\n",
       "      <td>Pink</td>\n",
       "      <td>Samsung</td>\n",
       "      <td>32</td>\n",
       "    </tr>\n",
       "    <tr>\n",
       "      <th>1</th>\n",
       "      <td>Color</td>\n",
       "      <td>Pink</td>\n",
       "      <td>LG</td>\n",
       "      <td>68</td>\n",
       "    </tr>\n",
       "    <tr>\n",
       "      <th>2</th>\n",
       "      <td>Color</td>\n",
       "      <td>Pink</td>\n",
       "      <td>Samsung</td>\n",
       "      <td>58</td>\n",
       "    </tr>\n",
       "    <tr>\n",
       "      <th>3</th>\n",
       "      <td>Color</td>\n",
       "      <td>Pink</td>\n",
       "      <td>Sony</td>\n",
       "      <td>42</td>\n",
       "    </tr>\n",
       "    <tr>\n",
       "      <th>4</th>\n",
       "      <td>Color</td>\n",
       "      <td>Pink</td>\n",
       "      <td>Samsung</td>\n",
       "      <td>21</td>\n",
       "    </tr>\n",
       "  </tbody>\n",
       "</table>\n",
       "</div>"
      ],
      "text/plain": [
       "  ename_y ename  ename_x eval\n",
       "0   Color  Pink  Samsung   32\n",
       "1   Color  Pink       LG   68\n",
       "2   Color  Pink  Samsung   58\n",
       "3   Color  Pink     Sony   42\n",
       "4   Color  Pink  Samsung   21"
      ]
     },
     "execution_count": 51,
     "metadata": {},
     "output_type": "execute_result"
    }
   ],
   "source": [
    "df_al.head()"
   ]
  },
  {
   "cell_type": "code",
   "execution_count": 53,
   "metadata": {
    "collapsed": true,
    "scrolled": true
   },
   "outputs": [],
   "source": [
    "df_al.rename(columns={\"ename_y\":\"Criteria\", \"ename\":\"Factors\", \"ename_x\":\"Alternatives\", \"eval\":\"Value\"}, inplace = True)"
   ]
  },
  {
   "cell_type": "code",
   "execution_count": 54,
   "metadata": {},
   "outputs": [
    {
     "data": {
      "text/html": [
       "<div>\n",
       "<table border=\"1\" class=\"dataframe\">\n",
       "  <thead>\n",
       "    <tr style=\"text-align: right;\">\n",
       "      <th></th>\n",
       "      <th>Criteria</th>\n",
       "      <th>Factors</th>\n",
       "      <th>Alternatives</th>\n",
       "      <th>Value</th>\n",
       "    </tr>\n",
       "  </thead>\n",
       "  <tbody>\n",
       "    <tr>\n",
       "      <th>0</th>\n",
       "      <td>Color</td>\n",
       "      <td>Pink</td>\n",
       "      <td>Samsung</td>\n",
       "      <td>32</td>\n",
       "    </tr>\n",
       "    <tr>\n",
       "      <th>1</th>\n",
       "      <td>Color</td>\n",
       "      <td>Pink</td>\n",
       "      <td>LG</td>\n",
       "      <td>68</td>\n",
       "    </tr>\n",
       "    <tr>\n",
       "      <th>2</th>\n",
       "      <td>Color</td>\n",
       "      <td>Pink</td>\n",
       "      <td>Samsung</td>\n",
       "      <td>58</td>\n",
       "    </tr>\n",
       "    <tr>\n",
       "      <th>3</th>\n",
       "      <td>Color</td>\n",
       "      <td>Pink</td>\n",
       "      <td>Sony</td>\n",
       "      <td>42</td>\n",
       "    </tr>\n",
       "    <tr>\n",
       "      <th>4</th>\n",
       "      <td>Color</td>\n",
       "      <td>Pink</td>\n",
       "      <td>Samsung</td>\n",
       "      <td>21</td>\n",
       "    </tr>\n",
       "  </tbody>\n",
       "</table>\n",
       "</div>"
      ],
      "text/plain": [
       "  Criteria Factors Alternatives Value\n",
       "0    Color    Pink      Samsung    32\n",
       "1    Color    Pink           LG    68\n",
       "2    Color    Pink      Samsung    58\n",
       "3    Color    Pink         Sony    42\n",
       "4    Color    Pink      Samsung    21"
      ]
     },
     "execution_count": 54,
     "metadata": {},
     "output_type": "execute_result"
    }
   ],
   "source": [
    "df_al.head()"
   ]
  },
  {
   "cell_type": "code",
   "execution_count": 55,
   "metadata": {},
   "outputs": [
    {
     "data": {
      "text/plain": [
       "'{\"Criteria\":{\"0\":\"Color\",\"1\":\"Color\",\"2\":\"Color\",\"3\":\"Color\",\"4\":\"Color\",\"5\":\"Color\",\"6\":\"Memory\",\"7\":\"Memory\",\"8\":\"Memory\",\"9\":\"Memory\",\"10\":\"Memory\",\"11\":\"Memory\",\"12\":\"Memory\",\"13\":\"Memory\",\"14\":\"Memory\",\"15\":\"Memory\",\"16\":\"Memory\",\"17\":\"Memory\",\"18\":\"Delivery\",\"19\":\"Delivery\",\"20\":\"Delivery\",\"21\":\"Delivery\",\"22\":\"Delivery\",\"23\":\"Delivery\"},\"Factors\":{\"0\":\"Pink\",\"1\":\"Blue\",\"2\":\"Pink\",\"3\":\"Yellow\",\"4\":\"Blue\",\"5\":\"Yellow\",\"6\":\"16GB\",\"7\":\"32GB\",\"8\":\"16GB\",\"9\":\"64GB\",\"10\":\"16GB\",\"11\":\"128GB\",\"12\":\"32GB\",\"13\":\"64GB\",\"14\":\"32GB\",\"15\":\"128GB\",\"16\":\"64GB\",\"17\":\"128GB\",\"18\":\"USPS\",\"19\":\"UPS\",\"20\":\"USPS\",\"21\":\"FedEx\",\"22\":\"UPS\",\"23\":\"FedEx\"},\"eval\":{\"0\":27,\"1\":73,\"2\":71,\"3\":29,\"4\":30,\"5\":70,\"6\":32,\"7\":68,\"8\":31,\"9\":69,\"10\":62,\"11\":38,\"12\":56,\"13\":44,\"14\":50,\"15\":50,\"16\":57,\"17\":43,\"18\":27,\"19\":73,\"20\":67,\"21\":33,\"22\":30,\"23\":70}}'"
      ]
     },
     "execution_count": 55,
     "metadata": {},
     "output_type": "execute_result"
    }
   ],
   "source": [
    "df_fa.to_json()"
   ]
  },
  {
   "cell_type": "code",
   "execution_count": 15,
   "metadata": {},
   "outputs": [
    {
     "data": {
      "text/html": [
       "<div>\n",
       "<table border=\"1\" class=\"dataframe\">\n",
       "  <thead>\n",
       "    <tr style=\"text-align: right;\">\n",
       "      <th>fa</th>\n",
       "      <th>11</th>\n",
       "      <th>12</th>\n",
       "      <th>13</th>\n",
       "      <th>21</th>\n",
       "      <th>22</th>\n",
       "      <th>23</th>\n",
       "      <th>24</th>\n",
       "      <th>31</th>\n",
       "      <th>32</th>\n",
       "      <th>33</th>\n",
       "    </tr>\n",
       "    <tr>\n",
       "      <th>ename</th>\n",
       "      <th></th>\n",
       "      <th></th>\n",
       "      <th></th>\n",
       "      <th></th>\n",
       "      <th></th>\n",
       "      <th></th>\n",
       "      <th></th>\n",
       "      <th></th>\n",
       "      <th></th>\n",
       "      <th></th>\n",
       "    </tr>\n",
       "  </thead>\n",
       "  <tbody>\n",
       "    <tr>\n",
       "      <th>Apple</th>\n",
       "      <td>133</td>\n",
       "      <td>112</td>\n",
       "      <td>108</td>\n",
       "      <td>191</td>\n",
       "      <td>169</td>\n",
       "      <td>201</td>\n",
       "      <td>158</td>\n",
       "      <td>171</td>\n",
       "      <td>177</td>\n",
       "      <td>125</td>\n",
       "    </tr>\n",
       "    <tr>\n",
       "      <th>LG</th>\n",
       "      <td>165</td>\n",
       "      <td>221</td>\n",
       "      <td>200</td>\n",
       "      <td>150</td>\n",
       "      <td>167</td>\n",
       "      <td>161</td>\n",
       "      <td>160</td>\n",
       "      <td>162</td>\n",
       "      <td>149</td>\n",
       "      <td>222</td>\n",
       "    </tr>\n",
       "    <tr>\n",
       "      <th>Samsung</th>\n",
       "      <td>116</td>\n",
       "      <td>114</td>\n",
       "      <td>114</td>\n",
       "      <td>149</td>\n",
       "      <td>124</td>\n",
       "      <td>105</td>\n",
       "      <td>137</td>\n",
       "      <td>104</td>\n",
       "      <td>117</td>\n",
       "      <td>114</td>\n",
       "    </tr>\n",
       "    <tr>\n",
       "      <th>Sony</th>\n",
       "      <td>186</td>\n",
       "      <td>153</td>\n",
       "      <td>178</td>\n",
       "      <td>110</td>\n",
       "      <td>140</td>\n",
       "      <td>133</td>\n",
       "      <td>145</td>\n",
       "      <td>163</td>\n",
       "      <td>157</td>\n",
       "      <td>139</td>\n",
       "    </tr>\n",
       "  </tbody>\n",
       "</table>\n",
       "</div>"
      ],
      "text/plain": [
       "fa        11   12   13   21   22   23   24   31   32   33\n",
       "ename                                                    \n",
       "Apple    133  112  108  191  169  201  158  171  177  125\n",
       "LG       165  221  200  150  167  161  160  162  149  222\n",
       "Samsung  116  114  114  149  124  105  137  104  117  114\n",
       "Sony     186  153  178  110  140  133  145  163  157  139"
      ]
     },
     "execution_count": 15,
     "metadata": {},
     "output_type": "execute_result"
    }
   ],
   "source": [
    "pdf_al"
   ]
  },
  {
   "cell_type": "code",
   "execution_count": 21,
   "metadata": {
    "collapsed": true
   },
   "outputs": [],
   "source": [
    "sum_al = pdf_al.sum()[0]"
   ]
  },
  {
   "cell_type": "code",
   "execution_count": 22,
   "metadata": {
    "collapsed": true
   },
   "outputs": [],
   "source": [
    "for col in pdf_al:\n",
    "    pdf_al[col] = round(pdf_al[col]/sum_al, 3)"
   ]
  },
  {
   "cell_type": "code",
   "execution_count": 23,
   "metadata": {},
   "outputs": [
    {
     "data": {
      "text/html": [
       "<div>\n",
       "<table border=\"1\" class=\"dataframe\">\n",
       "  <thead>\n",
       "    <tr style=\"text-align: right;\">\n",
       "      <th>fa</th>\n",
       "      <th>11</th>\n",
       "      <th>12</th>\n",
       "      <th>13</th>\n",
       "      <th>21</th>\n",
       "      <th>22</th>\n",
       "      <th>23</th>\n",
       "      <th>24</th>\n",
       "      <th>31</th>\n",
       "      <th>32</th>\n",
       "      <th>33</th>\n",
       "    </tr>\n",
       "    <tr>\n",
       "      <th>ename</th>\n",
       "      <th></th>\n",
       "      <th></th>\n",
       "      <th></th>\n",
       "      <th></th>\n",
       "      <th></th>\n",
       "      <th></th>\n",
       "      <th></th>\n",
       "      <th></th>\n",
       "      <th></th>\n",
       "      <th></th>\n",
       "    </tr>\n",
       "  </thead>\n",
       "  <tbody>\n",
       "    <tr>\n",
       "      <th>Apple</th>\n",
       "      <td>0.222</td>\n",
       "      <td>0.187</td>\n",
       "      <td>0.180</td>\n",
       "      <td>0.318</td>\n",
       "      <td>0.282</td>\n",
       "      <td>0.335</td>\n",
       "      <td>0.263</td>\n",
       "      <td>0.285</td>\n",
       "      <td>0.295</td>\n",
       "      <td>0.208</td>\n",
       "    </tr>\n",
       "    <tr>\n",
       "      <th>LG</th>\n",
       "      <td>0.275</td>\n",
       "      <td>0.368</td>\n",
       "      <td>0.333</td>\n",
       "      <td>0.250</td>\n",
       "      <td>0.278</td>\n",
       "      <td>0.268</td>\n",
       "      <td>0.267</td>\n",
       "      <td>0.270</td>\n",
       "      <td>0.248</td>\n",
       "      <td>0.370</td>\n",
       "    </tr>\n",
       "    <tr>\n",
       "      <th>Samsung</th>\n",
       "      <td>0.193</td>\n",
       "      <td>0.190</td>\n",
       "      <td>0.190</td>\n",
       "      <td>0.248</td>\n",
       "      <td>0.207</td>\n",
       "      <td>0.175</td>\n",
       "      <td>0.228</td>\n",
       "      <td>0.173</td>\n",
       "      <td>0.195</td>\n",
       "      <td>0.190</td>\n",
       "    </tr>\n",
       "    <tr>\n",
       "      <th>Sony</th>\n",
       "      <td>0.310</td>\n",
       "      <td>0.255</td>\n",
       "      <td>0.297</td>\n",
       "      <td>0.183</td>\n",
       "      <td>0.233</td>\n",
       "      <td>0.222</td>\n",
       "      <td>0.242</td>\n",
       "      <td>0.272</td>\n",
       "      <td>0.262</td>\n",
       "      <td>0.232</td>\n",
       "    </tr>\n",
       "  </tbody>\n",
       "</table>\n",
       "</div>"
      ],
      "text/plain": [
       "fa          11     12     13     21     22     23     24     31     32     33\n",
       "ename                                                                        \n",
       "Apple    0.222  0.187  0.180  0.318  0.282  0.335  0.263  0.285  0.295  0.208\n",
       "LG       0.275  0.368  0.333  0.250  0.278  0.268  0.267  0.270  0.248  0.370\n",
       "Samsung  0.193  0.190  0.190  0.248  0.207  0.175  0.228  0.173  0.195  0.190\n",
       "Sony     0.310  0.255  0.297  0.183  0.233  0.222  0.242  0.272  0.262  0.232"
      ]
     },
     "execution_count": 23,
     "metadata": {},
     "output_type": "execute_result"
    }
   ],
   "source": [
    "pdf_al"
   ]
  },
  {
   "cell_type": "code",
   "execution_count": 24,
   "metadata": {
    "collapsed": true
   },
   "outputs": [],
   "source": [
    "fa = 'Pink,Blue,Yellow|16GB,32GB,64GB,128GB|USPS,UPS,FedEx'"
   ]
  },
  {
   "cell_type": "code",
   "execution_count": 25,
   "metadata": {},
   "outputs": [
    {
     "data": {
      "text/plain": [
       "['Pink',\n",
       " 'Blue',\n",
       " 'Yellow',\n",
       " '16GB',\n",
       " '32GB',\n",
       " '64GB',\n",
       " '128GB',\n",
       " 'USPS',\n",
       " 'UPS',\n",
       " 'FedEx']"
      ]
     },
     "execution_count": 25,
     "metadata": {},
     "output_type": "execute_result"
    }
   ],
   "source": [
    "fa_list = []\n",
    "for i in fa.split('|'):\n",
    "    for j in i.split(','):\n",
    "        fa_list.append(j)\n",
    "fa_list"
   ]
  },
  {
   "cell_type": "code",
   "execution_count": 26,
   "metadata": {
    "collapsed": true,
    "scrolled": true
   },
   "outputs": [],
   "source": [
    "pdf_al.columns = fa_list"
   ]
  },
  {
   "cell_type": "code",
   "execution_count": 27,
   "metadata": {
    "scrolled": false
   },
   "outputs": [
    {
     "data": {
      "text/html": [
       "<div>\n",
       "<table border=\"1\" class=\"dataframe\">\n",
       "  <thead>\n",
       "    <tr style=\"text-align: right;\">\n",
       "      <th></th>\n",
       "      <th>Pink</th>\n",
       "      <th>Blue</th>\n",
       "      <th>Yellow</th>\n",
       "      <th>16GB</th>\n",
       "      <th>32GB</th>\n",
       "      <th>64GB</th>\n",
       "      <th>128GB</th>\n",
       "      <th>USPS</th>\n",
       "      <th>UPS</th>\n",
       "      <th>FedEx</th>\n",
       "    </tr>\n",
       "    <tr>\n",
       "      <th>ename</th>\n",
       "      <th></th>\n",
       "      <th></th>\n",
       "      <th></th>\n",
       "      <th></th>\n",
       "      <th></th>\n",
       "      <th></th>\n",
       "      <th></th>\n",
       "      <th></th>\n",
       "      <th></th>\n",
       "      <th></th>\n",
       "    </tr>\n",
       "  </thead>\n",
       "  <tbody>\n",
       "    <tr>\n",
       "      <th>Apple</th>\n",
       "      <td>0.222</td>\n",
       "      <td>0.187</td>\n",
       "      <td>0.180</td>\n",
       "      <td>0.318</td>\n",
       "      <td>0.282</td>\n",
       "      <td>0.335</td>\n",
       "      <td>0.263</td>\n",
       "      <td>0.285</td>\n",
       "      <td>0.295</td>\n",
       "      <td>0.208</td>\n",
       "    </tr>\n",
       "    <tr>\n",
       "      <th>LG</th>\n",
       "      <td>0.275</td>\n",
       "      <td>0.368</td>\n",
       "      <td>0.333</td>\n",
       "      <td>0.250</td>\n",
       "      <td>0.278</td>\n",
       "      <td>0.268</td>\n",
       "      <td>0.267</td>\n",
       "      <td>0.270</td>\n",
       "      <td>0.248</td>\n",
       "      <td>0.370</td>\n",
       "    </tr>\n",
       "    <tr>\n",
       "      <th>Samsung</th>\n",
       "      <td>0.193</td>\n",
       "      <td>0.190</td>\n",
       "      <td>0.190</td>\n",
       "      <td>0.248</td>\n",
       "      <td>0.207</td>\n",
       "      <td>0.175</td>\n",
       "      <td>0.228</td>\n",
       "      <td>0.173</td>\n",
       "      <td>0.195</td>\n",
       "      <td>0.190</td>\n",
       "    </tr>\n",
       "    <tr>\n",
       "      <th>Sony</th>\n",
       "      <td>0.310</td>\n",
       "      <td>0.255</td>\n",
       "      <td>0.297</td>\n",
       "      <td>0.183</td>\n",
       "      <td>0.233</td>\n",
       "      <td>0.222</td>\n",
       "      <td>0.242</td>\n",
       "      <td>0.272</td>\n",
       "      <td>0.262</td>\n",
       "      <td>0.232</td>\n",
       "    </tr>\n",
       "  </tbody>\n",
       "</table>\n",
       "</div>"
      ],
      "text/plain": [
       "          Pink   Blue  Yellow   16GB   32GB   64GB  128GB   USPS    UPS  FedEx\n",
       "ename                                                                         \n",
       "Apple    0.222  0.187   0.180  0.318  0.282  0.335  0.263  0.285  0.295  0.208\n",
       "LG       0.275  0.368   0.333  0.250  0.278  0.268  0.267  0.270  0.248  0.370\n",
       "Samsung  0.193  0.190   0.190  0.248  0.207  0.175  0.228  0.173  0.195  0.190\n",
       "Sony     0.310  0.255   0.297  0.183  0.233  0.222  0.242  0.272  0.262  0.232"
      ]
     },
     "execution_count": 27,
     "metadata": {},
     "output_type": "execute_result"
    }
   ],
   "source": [
    "pdf_al"
   ]
  },
  {
   "cell_type": "code",
   "execution_count": 28,
   "metadata": {
    "scrolled": true
   },
   "outputs": [
    {
     "data": {
      "text/plain": [
       "'{\"Pink\":{\"Apple\":0.222,\"LG\":0.275,\"Samsung\":0.193,\"Sony\":0.31},\"Blue\":{\"Apple\":0.187,\"LG\":0.368,\"Samsung\":0.19,\"Sony\":0.255},\"Yellow\":{\"Apple\":0.18,\"LG\":0.333,\"Samsung\":0.19,\"Sony\":0.297},\"16GB\":{\"Apple\":0.318,\"LG\":0.25,\"Samsung\":0.248,\"Sony\":0.183},\"32GB\":{\"Apple\":0.282,\"LG\":0.278,\"Samsung\":0.207,\"Sony\":0.233},\"64GB\":{\"Apple\":0.335,\"LG\":0.268,\"Samsung\":0.175,\"Sony\":0.222},\"128GB\":{\"Apple\":0.263,\"LG\":0.267,\"Samsung\":0.228,\"Sony\":0.242},\"USPS\":{\"Apple\":0.285,\"LG\":0.27,\"Samsung\":0.173,\"Sony\":0.272},\"UPS\":{\"Apple\":0.295,\"LG\":0.248,\"Samsung\":0.195,\"Sony\":0.262},\"FedEx\":{\"Apple\":0.208,\"LG\":0.37,\"Samsung\":0.19,\"Sony\":0.232}}'"
      ]
     },
     "execution_count": 28,
     "metadata": {},
     "output_type": "execute_result"
    }
   ],
   "source": [
    "rs_json = pdf_al.to_json()\n",
    "rs_json"
   ]
  },
  {
   "cell_type": "code",
   "execution_count": 29,
   "metadata": {},
   "outputs": [
    {
     "data": {
      "text/html": [
       "<div>\n",
       "<table border=\"1\" class=\"dataframe\">\n",
       "  <thead>\n",
       "    <tr style=\"text-align: right;\">\n",
       "      <th></th>\n",
       "      <th>128GB</th>\n",
       "      <th>16GB</th>\n",
       "      <th>32GB</th>\n",
       "      <th>64GB</th>\n",
       "      <th>Blue</th>\n",
       "      <th>FedEx</th>\n",
       "      <th>Pink</th>\n",
       "      <th>UPS</th>\n",
       "      <th>USPS</th>\n",
       "      <th>Yellow</th>\n",
       "    </tr>\n",
       "  </thead>\n",
       "  <tbody>\n",
       "    <tr>\n",
       "      <th>Apple</th>\n",
       "      <td>0.263</td>\n",
       "      <td>0.318</td>\n",
       "      <td>0.282</td>\n",
       "      <td>0.335</td>\n",
       "      <td>0.187</td>\n",
       "      <td>0.208</td>\n",
       "      <td>0.222</td>\n",
       "      <td>0.295</td>\n",
       "      <td>0.285</td>\n",
       "      <td>0.180</td>\n",
       "    </tr>\n",
       "    <tr>\n",
       "      <th>LG</th>\n",
       "      <td>0.267</td>\n",
       "      <td>0.250</td>\n",
       "      <td>0.278</td>\n",
       "      <td>0.268</td>\n",
       "      <td>0.368</td>\n",
       "      <td>0.370</td>\n",
       "      <td>0.275</td>\n",
       "      <td>0.248</td>\n",
       "      <td>0.270</td>\n",
       "      <td>0.333</td>\n",
       "    </tr>\n",
       "    <tr>\n",
       "      <th>Samsung</th>\n",
       "      <td>0.228</td>\n",
       "      <td>0.248</td>\n",
       "      <td>0.207</td>\n",
       "      <td>0.175</td>\n",
       "      <td>0.190</td>\n",
       "      <td>0.190</td>\n",
       "      <td>0.193</td>\n",
       "      <td>0.195</td>\n",
       "      <td>0.173</td>\n",
       "      <td>0.190</td>\n",
       "    </tr>\n",
       "    <tr>\n",
       "      <th>Sony</th>\n",
       "      <td>0.242</td>\n",
       "      <td>0.183</td>\n",
       "      <td>0.233</td>\n",
       "      <td>0.222</td>\n",
       "      <td>0.255</td>\n",
       "      <td>0.232</td>\n",
       "      <td>0.310</td>\n",
       "      <td>0.262</td>\n",
       "      <td>0.272</td>\n",
       "      <td>0.297</td>\n",
       "    </tr>\n",
       "  </tbody>\n",
       "</table>\n",
       "</div>"
      ],
      "text/plain": [
       "         128GB   16GB   32GB   64GB   Blue  FedEx   Pink    UPS   USPS  Yellow\n",
       "Apple    0.263  0.318  0.282  0.335  0.187  0.208  0.222  0.295  0.285   0.180\n",
       "LG       0.267  0.250  0.278  0.268  0.368  0.370  0.275  0.248  0.270   0.333\n",
       "Samsung  0.228  0.248  0.207  0.175  0.190  0.190  0.193  0.195  0.173   0.190\n",
       "Sony     0.242  0.183  0.233  0.222  0.255  0.232  0.310  0.262  0.272   0.297"
      ]
     },
     "execution_count": 29,
     "metadata": {},
     "output_type": "execute_result"
    }
   ],
   "source": [
    "df2 = pd.read_json(rs_json)\n",
    "df2"
   ]
  },
  {
   "cell_type": "code",
   "execution_count": 67,
   "metadata": {},
   "outputs": [],
   "source": [
    "tt = '{\"Criteria\":{\"0\":\"Color\",\"1\":\"Color\",\"2\":\"Color\",\"3\":\"Color\",\"4\":\"Color\",\"5\":\"Color\",\"6\":\"Memory\",\"7\":\"Memory\",\"8\":\"Memory\",\"9\":\"Memory\"},\"Factors\":{\"0\":\"Pink\",\"1\":\"Pink\",\"2\":\"Blue\",\"3\":\"Blue\",\"4\":\"Yellow\",\"5\":\"Yellow\",\"6\":\"32GB\",\"7\":\"32GB\",\"8\":\"64GB\",\"9\":\"64GB\"},\"Alternatives\":{\"0\":\"Samsung\",\"1\":\"Apple\",\"2\":\"Samsung\",\"3\":\"Apple\",\"4\":\"Samsung\",\"5\":\"Apple\",\"6\":\"Samsung\",\"7\":\"Apple\",\"8\":\"Samsung\",\"9\":\"Apple\"},\"Value\":{\"0\":\"27\",\"1\":\"73\",\"2\":\"61\",\"3\":\"39\",\"4\":\"62\",\"5\":\"38\",\"6\":\"34\",\"7\":\"66\",\"8\":\"32\",\"9\":\"68\"}}'"
   ]
  },
  {
   "cell_type": "code",
   "execution_count": 68,
   "metadata": {},
   "outputs": [],
   "source": [
    "eval_al = pd.read_json(tt)\n",
    "eval_al.index = np.arange(1, len(eval_al) + 1)"
   ]
  },
  {
   "cell_type": "code",
   "execution_count": 69,
   "metadata": {},
   "outputs": [
    {
     "data": {
      "text/plain": [
       "'<table border=\"1\" class=\"dataframe\">\\n  <thead>\\n    <tr style=\"text-align: right;\">\\n      <th></th>\\n      <th>Criteria</th>\\n      <th>Factors</th>\\n      <th>Alternatives</th>\\n      <th>Value</th>\\n    </tr>\\n  </thead>\\n  <tbody>\\n    <tr>\\n      <th>1</th>\\n      <td>Color</td>\\n      <td>Pink</td>\\n      <td>Samsung</td>\\n      <td>27</td>\\n    </tr>\\n    <tr>\\n      <th>2</th>\\n      <td>Color</td>\\n      <td>Pink</td>\\n      <td>Apple</td>\\n      <td>73</td>\\n    </tr>\\n    <tr>\\n      <th>3</th>\\n      <td>Color</td>\\n      <td>Blue</td>\\n      <td>Samsung</td>\\n      <td>61</td>\\n    </tr>\\n    <tr>\\n      <th>4</th>\\n      <td>Color</td>\\n      <td>Blue</td>\\n      <td>Apple</td>\\n      <td>39</td>\\n    </tr>\\n    <tr>\\n      <th>5</th>\\n      <td>Color</td>\\n      <td>Yellow</td>\\n      <td>Samsung</td>\\n      <td>62</td>\\n    </tr>\\n    <tr>\\n      <th>6</th>\\n      <td>Color</td>\\n      <td>Yellow</td>\\n      <td>Apple</td>\\n      <td>38</td>\\n    </tr>\\n    <tr>\\n      <th>7</th>\\n      <td>Memory</td>\\n      <td>32GB</td>\\n      <td>Samsung</td>\\n      <td>34</td>\\n    </tr>\\n    <tr>\\n      <th>8</th>\\n      <td>Memory</td>\\n      <td>32GB</td>\\n      <td>Apple</td>\\n      <td>66</td>\\n    </tr>\\n    <tr>\\n      <th>9</th>\\n      <td>Memory</td>\\n      <td>64GB</td>\\n      <td>Samsung</td>\\n      <td>32</td>\\n    </tr>\\n    <tr>\\n      <th>10</th>\\n      <td>Memory</td>\\n      <td>64GB</td>\\n      <td>Apple</td>\\n      <td>68</td>\\n    </tr>\\n  </tbody>\\n</table>'"
      ]
     },
     "execution_count": 69,
     "metadata": {},
     "output_type": "execute_result"
    }
   ],
   "source": [
    "eval_al[['Criteria', 'Factors', 'Alternatives', 'Value']].to_html()"
   ]
  },
  {
   "cell_type": "code",
   "execution_count": null,
   "metadata": {
    "collapsed": true
   },
   "outputs": [],
   "source": []
  }
 ],
 "metadata": {
  "anaconda-cloud": {},
  "kernelspec": {
   "display_name": "Python [default]",
   "language": "python",
   "name": "python3"
  },
  "language_info": {
   "codemirror_mode": {
    "name": "ipython",
    "version": 3
   },
   "file_extension": ".py",
   "mimetype": "text/x-python",
   "name": "python",
   "nbconvert_exporter": "python",
   "pygments_lexer": "ipython3",
   "version": "3.5.2"
  }
 },
 "nbformat": 4,
 "nbformat_minor": 1
}
