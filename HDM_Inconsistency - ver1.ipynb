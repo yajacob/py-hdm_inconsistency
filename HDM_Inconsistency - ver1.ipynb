{
 "cells": [
  {
   "cell_type": "code",
   "execution_count": 1,
   "metadata": {
    "collapsed": true
   },
   "outputs": [],
   "source": [
    "import pandas as pd\n",
    "import numpy as np\n",
    "import json"
   ]
  },
  {
   "cell_type": "code",
   "execution_count": 15,
   "metadata": {
    "collapsed": true
   },
   "outputs": [],
   "source": [
    "def make_matrix_a(resp_data):\n",
    "    temp_list = resp_data.split(\"|\")\n",
    "    n_fact = {20:5, 12:4, 6:3}\n",
    "    matrix_size = n_fact[len(temp_list)]\n",
    "    \n",
    "    matrix = [[0 for col in range(matrix_size)] for row in range(matrix_size)]\n",
    "    for idx, tl in enumerate(temp_list):\n",
    "        pair_data = tl.split(\",\")\n",
    "\n",
    "        # first item\n",
    "        if idx % 2 == 0:\n",
    "            col_1st = int(pair_data[0][-1:]) - 1\n",
    "            pair_1st_val = int(pair_data[2])\n",
    "            \n",
    "        # second item\n",
    "        else:\n",
    "            col_2nd = int(pair_data[0][-1:]) - 1\n",
    "            row_2nd = col_1st\n",
    "            row_1st = col_2nd\n",
    "            pair_2nd_val = pair_data[2]\n",
    "            matrix[row_1st][col_1st] = int(pair_1st_val)\n",
    "            matrix[row_2nd][col_2nd] = int(pair_2nd_val)\n",
    "        \n",
    "    return matrix"
   ]
  },
  {
   "cell_type": "code",
   "execution_count": 16,
   "metadata": {},
   "outputs": [
    {
     "data": {
      "text/plain": [
       "4"
      ]
     },
     "execution_count": 16,
     "metadata": {},
     "output_type": "execute_result"
    }
   ],
   "source": [
    "str_al = 'CR111,A,40|CR112,B,60|CR114,D,57|CR113,C,43|CR113,C,75|CR111,A,25|CR112,B,38|CR114,D,62|CR111,A,20|CR114,D,80|CR112,B,50|CR113,C,50'\n",
    "n_fact = {20:5, 12:4, 6:3, 2:2}\n",
    "matrix_size = n_fact[len(str_al.split(\"|\"))]\n",
    "matrix_size"
   ]
  },
  {
   "cell_type": "code",
   "execution_count": 17,
   "metadata": {
    "collapsed": true
   },
   "outputs": [],
   "source": [
    "matrix_a = make_matrix_a(str_al)"
   ]
  },
  {
   "cell_type": "code",
   "execution_count": 18,
   "metadata": {},
   "outputs": [
    {
     "data": {
      "text/plain": [
       "[[0, 60, 75, 80], [40, 0, 50, 62], [25, 50, 0, 57], [20, 38, 43, 0]]"
      ]
     },
     "execution_count": 18,
     "metadata": {},
     "output_type": "execute_result"
    }
   ],
   "source": [
    "matrix_a"
   ]
  },
  {
   "cell_type": "code",
   "execution_count": 22,
   "metadata": {
    "collapsed": true
   },
   "outputs": [],
   "source": [
    "def make_matrix_b(matrix_a, matrix_size):\n",
    "    matrix = [[0 for col in range(matrix_size)] for row in range(matrix_size)]\n",
    "    \n",
    "    for i in range(matrix_size):\n",
    "        for j in range(matrix_size):\n",
    "            if i == j:\n",
    "                matrix[i][j] = 1\n",
    "            else:\n",
    "                matrix[i][j] = round(matrix_a[i][j]/matrix_a[j][i], 2)\n",
    "    return matrix"
   ]
  },
  {
   "cell_type": "code",
   "execution_count": 23,
   "metadata": {},
   "outputs": [],
   "source": [
    "matrix_b = make_matrix_b(matrix_a, matrix_size)"
   ]
  },
  {
   "cell_type": "code",
   "execution_count": 24,
   "metadata": {},
   "outputs": [
    {
     "data": {
      "text/plain": [
       "[[1, 1.5, 3.0, 4.0],\n",
       " [0.67, 1, 1.0, 1.63],\n",
       " [0.33, 1.0, 1, 1.33],\n",
       " [0.25, 0.61, 0.75, 1]]"
      ]
     },
     "execution_count": 24,
     "metadata": {},
     "output_type": "execute_result"
    }
   ],
   "source": [
    "matrix_b"
   ]
  },
  {
   "cell_type": "code",
   "execution_count": 25,
   "metadata": {
    "collapsed": true
   },
   "outputs": [],
   "source": [
    "def make_matrix_c(matrix_b, matrix_size):\n",
    "    matrix = [[0 for col in range(matrix_size-1)] for row in range(matrix_size)]\n",
    "    \n",
    "    for i in range(matrix_size):\n",
    "        for j in range(matrix_size-1):\n",
    "            matrix[i][j] = round(matrix_b[i][j]/matrix_b[i][j+1], 2)\n",
    "    return matrix"
   ]
  },
  {
   "cell_type": "code",
   "execution_count": 26,
   "metadata": {},
   "outputs": [
    {
     "data": {
      "text/plain": [
       "[[0.67, 0.5, 0.75], [0.67, 1.0, 0.61], [0.33, 1.0, 0.75], [0.41, 0.81, 0.75]]"
      ]
     },
     "execution_count": 26,
     "metadata": {},
     "output_type": "execute_result"
    }
   ],
   "source": [
    "matrix_c = make_matrix_c(matrix_b, matrix_size)\n",
    "matrix_c"
   ]
  },
  {
   "cell_type": "code",
   "execution_count": 27,
   "metadata": {
    "collapsed": true
   },
   "outputs": [],
   "source": [
    "matrix_mean = [0 for i in range(matrix_size)]"
   ]
  },
  {
   "cell_type": "code",
   "execution_count": null,
   "metadata": {
    "collapsed": true
   },
   "outputs": [],
   "source": [
    "def make_mean_list(matrix_c, matrix_size):\n",
    "    matrix_mean = [0 for i in range(matrix_size - 1)]\n",
    "    \n",
    "    for i in range(matrix_size - 1):\n",
    "        \n",
    "    \n",
    "    return matrix_mean"
   ]
  }
 ],
 "metadata": {
  "kernelspec": {
   "display_name": "Python 3",
   "language": "python",
   "name": "python3"
  },
  "language_info": {
   "codemirror_mode": {
    "name": "ipython",
    "version": 3
   },
   "file_extension": ".py",
   "mimetype": "text/x-python",
   "name": "python",
   "nbconvert_exporter": "python",
   "pygments_lexer": "ipython3",
   "version": "3.6.1"
  }
 },
 "nbformat": 4,
 "nbformat_minor": 2
}
