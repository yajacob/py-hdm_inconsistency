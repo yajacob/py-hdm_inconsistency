{
 "cells": [
  {
   "cell_type": "code",
   "execution_count": 1,
   "metadata": {
    "collapsed": true
   },
   "outputs": [],
   "source": [
    "import pandas as pd\n",
    "import numpy as np\n",
    "import json"
   ]
  },
  {
   "cell_type": "code",
   "execution_count": 2,
   "metadata": {
    "collapsed": true
   },
   "outputs": [],
   "source": [
    "def tround(num, place):\n",
    "    num += pow(0.1, place+4)\n",
    "    return round(num, place)"
   ]
  },
  {
   "cell_type": "code",
   "execution_count": 3,
   "metadata": {
    "collapsed": true
   },
   "outputs": [],
   "source": [
    "def step1_matrix_a(resp_data):\n",
    "    temp_list = resp_data.split(\"|\")\n",
    "    n_fact = {20:5, 12:4, 6:3}\n",
    "    matrix_size = n_fact[len(temp_list)]\n",
    "    \n",
    "    matrix = [[0 for col in range(matrix_size)] for row in range(matrix_size)]\n",
    "    for idx, tl in enumerate(temp_list):\n",
    "        pair_data = tl.split(\",\")\n",
    "\n",
    "        # first item\n",
    "        if idx % 2 == 0:\n",
    "            col_1st = int(pair_data[0][-1:]) - 1\n",
    "            pair_1st_val = int(pair_data[2])\n",
    "            \n",
    "        # second item\n",
    "        else:\n",
    "            col_2nd = int(pair_data[0][-1:]) - 1\n",
    "            row_2nd = col_1st\n",
    "            row_1st = col_2nd\n",
    "            pair_2nd_val = pair_data[2]\n",
    "            matrix[row_1st][col_1st] = int(pair_1st_val)\n",
    "            matrix[row_2nd][col_2nd] = int(pair_2nd_val)\n",
    "        \n",
    "    return matrix"
   ]
  },
  {
   "cell_type": "code",
   "execution_count": 4,
   "metadata": {
    "collapsed": true
   },
   "outputs": [],
   "source": [
    "def step2_matrix_b(matrix_a, matrix_size):\n",
    "    matrix = [[0 for col in range(matrix_size)] for row in range(matrix_size)]\n",
    "    \n",
    "    for i in range(matrix_size):\n",
    "        for j in range(matrix_size):\n",
    "            if i == j:\n",
    "                matrix[i][j] = 1\n",
    "            else:\n",
    "                matrix[i][j] = tround(matrix_a[i][j]/matrix_a[j][i], 2)\n",
    "    return matrix"
   ]
  },
  {
   "cell_type": "code",
   "execution_count": 5,
   "metadata": {
    "collapsed": true
   },
   "outputs": [],
   "source": [
    "def step3_matrix_c(matrix_b, matrix_size):\n",
    "    matrix = [[0 for col in range(matrix_size-1)] for row in range(matrix_size)]\n",
    "    \n",
    "    for i in range(matrix_size):\n",
    "        for j in range(matrix_size-1):\n",
    "            matrix[i][j] = tround(matrix_b[i][j]/matrix_b[i][j+1], 2)\n",
    "    return matrix"
   ]
  },
  {
   "cell_type": "code",
   "execution_count": 6,
   "metadata": {
    "collapsed": true
   },
   "outputs": [],
   "source": [
    "def step4_mean_list(matrix_c, matrix_size):\n",
    "    matrix_mean = [0 for i in range(matrix_size - 1)]\n",
    "    \n",
    "    for i in range(matrix_size - 1):\n",
    "        temp_sum = 0.0\n",
    "        for j in range(matrix_size):\n",
    "            temp_sum += matrix_c[j][i]\n",
    "        matrix_mean[i] = tround(temp_sum / matrix_size, 2)\n",
    "    \n",
    "    return matrix_mean"
   ]
  },
  {
   "cell_type": "code",
   "execution_count": 7,
   "metadata": {
    "collapsed": true
   },
   "outputs": [],
   "source": [
    "def step5_normalize(matrix_mean, matrix_size):\n",
    "    norm_val = [0 for i in range(matrix_size)]\n",
    "    norm_val[3] = 1\n",
    "    norm_val[2] = tround(matrix_mean[2], 2)\n",
    "    norm_val[1] = tround(norm_val[2] * matrix_mean[1], 2)\n",
    "    norm_val[0] = tround(norm_val[1] * matrix_mean[0], 2)\n",
    "    \n",
    "    sum_val = 0.0\n",
    "    for val in norm_val:\n",
    "        sum_val += val\n",
    "        \n",
    "    for idx, val in enumerate(norm_val):\n",
    "        norm_val[idx] = tround(val / sum_val, 2)\n",
    "    \n",
    "    return norm_val"
   ]
  },
  {
   "cell_type": "code",
   "execution_count": 8,
   "metadata": {},
   "outputs": [
    {
     "data": {
      "text/plain": [
       "4"
      ]
     },
     "execution_count": 8,
     "metadata": {},
     "output_type": "execute_result"
    }
   ],
   "source": [
    "str_al = 'CR111,A,40|CR112,B,60|CR114,D,57|CR113,C,43|CR113,C,75|CR111,A,25|CR112,B,38|CR114,D,62|CR111,A,20|CR114,D,80|CR112,B,50|CR113,C,50'\n",
    "n_fact = {20:5, 12:4, 6:3, 2:2}\n",
    "matrix_size = n_fact[len(str_al.split(\"|\"))]\n",
    "matrix_size"
   ]
  },
  {
   "cell_type": "code",
   "execution_count": 9,
   "metadata": {},
   "outputs": [
    {
     "data": {
      "text/plain": [
       "[[0, 60, 75, 80], [40, 0, 50, 62], [25, 50, 0, 57], [20, 38, 43, 0]]"
      ]
     },
     "execution_count": 9,
     "metadata": {},
     "output_type": "execute_result"
    }
   ],
   "source": [
    "matrix_a = step1_matrix_a(str_al)\n",
    "matrix_a"
   ]
  },
  {
   "cell_type": "code",
   "execution_count": 43,
   "metadata": {
    "collapsed": true
   },
   "outputs": [],
   "source": [
    "df2 = pd.DataFrame(matrix_a)"
   ]
  },
  {
   "cell_type": "code",
   "execution_count": 44,
   "metadata": {},
   "outputs": [
    {
     "data": {
      "text/html": [
       "<div>\n",
       "<style>\n",
       "    .dataframe thead tr:only-child th {\n",
       "        text-align: right;\n",
       "    }\n",
       "\n",
       "    .dataframe thead th {\n",
       "        text-align: left;\n",
       "    }\n",
       "\n",
       "    .dataframe tbody tr th {\n",
       "        vertical-align: top;\n",
       "    }\n",
       "</style>\n",
       "<table border=\"1\" class=\"dataframe\">\n",
       "  <thead>\n",
       "    <tr style=\"text-align: right;\">\n",
       "      <th></th>\n",
       "      <th>0</th>\n",
       "      <th>1</th>\n",
       "      <th>2</th>\n",
       "      <th>3</th>\n",
       "    </tr>\n",
       "  </thead>\n",
       "  <tbody>\n",
       "    <tr>\n",
       "      <th>0</th>\n",
       "      <td>0</td>\n",
       "      <td>60</td>\n",
       "      <td>75</td>\n",
       "      <td>80</td>\n",
       "    </tr>\n",
       "    <tr>\n",
       "      <th>1</th>\n",
       "      <td>40</td>\n",
       "      <td>0</td>\n",
       "      <td>50</td>\n",
       "      <td>62</td>\n",
       "    </tr>\n",
       "    <tr>\n",
       "      <th>2</th>\n",
       "      <td>25</td>\n",
       "      <td>50</td>\n",
       "      <td>0</td>\n",
       "      <td>57</td>\n",
       "    </tr>\n",
       "    <tr>\n",
       "      <th>3</th>\n",
       "      <td>20</td>\n",
       "      <td>38</td>\n",
       "      <td>43</td>\n",
       "      <td>0</td>\n",
       "    </tr>\n",
       "  </tbody>\n",
       "</table>\n",
       "</div>"
      ],
      "text/plain": [
       "    0   1   2   3\n",
       "0   0  60  75  80\n",
       "1  40   0  50  62\n",
       "2  25  50   0  57\n",
       "3  20  38  43   0"
      ]
     },
     "execution_count": 44,
     "metadata": {},
     "output_type": "execute_result"
    }
   ],
   "source": [
    "df2"
   ]
  },
  {
   "cell_type": "code",
   "execution_count": 10,
   "metadata": {},
   "outputs": [
    {
     "data": {
      "text/plain": [
       "[[1, 1.5, 3.0, 4.0],\n",
       " [0.67, 1, 1.0, 1.63],\n",
       " [0.33, 1.0, 1, 1.33],\n",
       " [0.25, 0.61, 0.75, 1]]"
      ]
     },
     "execution_count": 10,
     "metadata": {},
     "output_type": "execute_result"
    }
   ],
   "source": [
    "matrix_b = step2_matrix_b(matrix_a, matrix_size)\n",
    "matrix_b"
   ]
  },
  {
   "cell_type": "code",
   "execution_count": 11,
   "metadata": {},
   "outputs": [
    {
     "data": {
      "text/html": [
       "<div>\n",
       "<style>\n",
       "    .dataframe thead tr:only-child th {\n",
       "        text-align: right;\n",
       "    }\n",
       "\n",
       "    .dataframe thead th {\n",
       "        text-align: left;\n",
       "    }\n",
       "\n",
       "    .dataframe tbody tr th {\n",
       "        vertical-align: top;\n",
       "    }\n",
       "</style>\n",
       "<table border=\"1\" class=\"dataframe\">\n",
       "  <thead>\n",
       "    <tr style=\"text-align: right;\">\n",
       "      <th></th>\n",
       "      <th>0</th>\n",
       "      <th>1</th>\n",
       "      <th>2</th>\n",
       "      <th>3</th>\n",
       "    </tr>\n",
       "  </thead>\n",
       "  <tbody>\n",
       "    <tr>\n",
       "      <th>0</th>\n",
       "      <td>1.00</td>\n",
       "      <td>1.50</td>\n",
       "      <td>3.00</td>\n",
       "      <td>4.00</td>\n",
       "    </tr>\n",
       "    <tr>\n",
       "      <th>1</th>\n",
       "      <td>0.67</td>\n",
       "      <td>1.00</td>\n",
       "      <td>1.00</td>\n",
       "      <td>1.63</td>\n",
       "    </tr>\n",
       "    <tr>\n",
       "      <th>2</th>\n",
       "      <td>0.33</td>\n",
       "      <td>1.00</td>\n",
       "      <td>1.00</td>\n",
       "      <td>1.33</td>\n",
       "    </tr>\n",
       "    <tr>\n",
       "      <th>3</th>\n",
       "      <td>0.25</td>\n",
       "      <td>0.61</td>\n",
       "      <td>0.75</td>\n",
       "      <td>1.00</td>\n",
       "    </tr>\n",
       "  </tbody>\n",
       "</table>\n",
       "</div>"
      ],
      "text/plain": [
       "      0     1     2     3\n",
       "0  1.00  1.50  3.00  4.00\n",
       "1  0.67  1.00  1.00  1.63\n",
       "2  0.33  1.00  1.00  1.33\n",
       "3  0.25  0.61  0.75  1.00"
      ]
     },
     "execution_count": 11,
     "metadata": {},
     "output_type": "execute_result"
    }
   ],
   "source": [
    "# matrix_size == 4\n",
    "df = pd.DataFrame(matrix_b)\n",
    "df\n",
    "#df['0']\n",
    "#df_list = df['0','1','2','3'].tolist()\n",
    "#df_list"
   ]
  },
  {
   "cell_type": "code",
   "execution_count": 12,
   "metadata": {},
   "outputs": [
    {
     "data": {
      "text/plain": [
       "[[0.67, 0.5, 0.75], [0.67, 1.0, 0.61], [0.33, 1.0, 0.75], [0.41, 0.81, 0.75]]"
      ]
     },
     "execution_count": 12,
     "metadata": {},
     "output_type": "execute_result"
    }
   ],
   "source": [
    "matrix_c = step3_matrix_c(matrix_b, matrix_size)\n",
    "matrix_c"
   ]
  },
  {
   "cell_type": "code",
   "execution_count": 13,
   "metadata": {},
   "outputs": [
    {
     "data": {
      "text/plain": [
       "[0.52, 0.83, 0.72]"
      ]
     },
     "execution_count": 13,
     "metadata": {},
     "output_type": "execute_result"
    }
   ],
   "source": [
    "matrix_mean = step4_mean_list(matrix_c, matrix_size)\n",
    "matrix_mean"
   ]
  },
  {
   "cell_type": "code",
   "execution_count": 14,
   "metadata": {},
   "outputs": [
    {
     "data": {
      "text/plain": [
       "[0.12, 0.23, 0.27, 0.38]"
      ]
     },
     "execution_count": 14,
     "metadata": {},
     "output_type": "execute_result"
    }
   ],
   "source": [
    "norm_val = step5_normalize(matrix_mean, matrix_size)\n",
    "norm_val"
   ]
  },
  {
   "cell_type": "code",
   "execution_count": 15,
   "metadata": {},
   "outputs": [
    {
     "data": {
      "text/html": [
       "<div>\n",
       "<style>\n",
       "    .dataframe thead tr:only-child th {\n",
       "        text-align: right;\n",
       "    }\n",
       "\n",
       "    .dataframe thead th {\n",
       "        text-align: left;\n",
       "    }\n",
       "\n",
       "    .dataframe tbody tr th {\n",
       "        vertical-align: top;\n",
       "    }\n",
       "</style>\n",
       "<table border=\"1\" class=\"dataframe\">\n",
       "  <thead>\n",
       "    <tr style=\"text-align: right;\">\n",
       "      <th></th>\n",
       "      <th>0</th>\n",
       "      <th>1</th>\n",
       "      <th>2</th>\n",
       "      <th>3</th>\n",
       "    </tr>\n",
       "  </thead>\n",
       "  <tbody>\n",
       "    <tr>\n",
       "      <th>0</th>\n",
       "      <td>1.00</td>\n",
       "      <td>1.50</td>\n",
       "      <td>3.00</td>\n",
       "      <td>4.00</td>\n",
       "    </tr>\n",
       "    <tr>\n",
       "      <th>1</th>\n",
       "      <td>0.67</td>\n",
       "      <td>1.00</td>\n",
       "      <td>1.00</td>\n",
       "      <td>1.63</td>\n",
       "    </tr>\n",
       "    <tr>\n",
       "      <th>2</th>\n",
       "      <td>0.33</td>\n",
       "      <td>1.00</td>\n",
       "      <td>1.00</td>\n",
       "      <td>1.33</td>\n",
       "    </tr>\n",
       "    <tr>\n",
       "      <th>3</th>\n",
       "      <td>0.25</td>\n",
       "      <td>0.61</td>\n",
       "      <td>0.75</td>\n",
       "      <td>1.00</td>\n",
       "    </tr>\n",
       "  </tbody>\n",
       "</table>\n",
       "</div>"
      ],
      "text/plain": [
       "      0     1     2     3\n",
       "0  1.00  1.50  3.00  4.00\n",
       "1  0.67  1.00  1.00  1.63\n",
       "2  0.33  1.00  1.00  1.33\n",
       "3  0.25  0.61  0.75  1.00"
      ]
     },
     "execution_count": 15,
     "metadata": {},
     "output_type": "execute_result"
    }
   ],
   "source": [
    "df"
   ]
  },
  {
   "cell_type": "code",
   "execution_count": 32,
   "metadata": {},
   "outputs": [],
   "source": [
    "normalized_list = []\n",
    "for i in range(4):\n",
    "    for j in range(4):\n",
    "        if i==j: continue\n",
    "        for k in range(4):\n",
    "            if i==k: continue\n",
    "            if j==k: continue\n",
    "            for l in range(4):\n",
    "                if i==l: continue\n",
    "                if j==l: continue\n",
    "                if k==l: continue\n",
    "                matrix_b = df[[i, j, k, l]].values.tolist()\n",
    "                matrix_c = step3_matrix_c(matrix_b, matrix_size)\n",
    "                matrix_mean = step4_mean_list(matrix_c, matrix_size)\n",
    "                norm_val = step5_normalize(matrix_mean, matrix_size)\n",
    "                normalized_list.append(norm_val)\n",
    "                #print(str(i)+\"|\"+str(j)+\"|\"+str(k)+\"|\"+str(l), end=\">>\")\n",
    "                #print(norm_val)\n",
    "                #temp_df = pd.DataFrame()\n",
    "                #temp_df.from_items(norm_val)\n",
    "                #print(temp_df)\n",
    "                #newDF.append(temp_df)"
   ]
  },
  {
   "cell_type": "code",
   "execution_count": 33,
   "metadata": {},
   "outputs": [
    {
     "data": {
      "text/plain": [
       "[[0.12, 0.23, 0.27, 0.38],\n",
       " [0.12, 0.23, 0.38, 0.27],\n",
       " [0.12, 0.29, 0.22, 0.37],\n",
       " [0.12, 0.28, 0.39, 0.21],\n",
       " [0.12, 0.4, 0.22, 0.26],\n",
       " [0.11, 0.39, 0.28, 0.21],\n",
       " [0.24, 0.11, 0.27, 0.38],\n",
       " [0.24, 0.11, 0.38, 0.27],\n",
       " [0.24, 0.28, 0.11, 0.37],\n",
       " [0.23, 0.28, 0.39, 0.11],\n",
       " [0.23, 0.4, 0.11, 0.26],\n",
       " [0.23, 0.39, 0.28, 0.1],\n",
       " [0.3, 0.11, 0.22, 0.37],\n",
       " [0.29, 0.11, 0.38, 0.21],\n",
       " [0.3, 0.23, 0.11, 0.37],\n",
       " [0.29, 0.22, 0.38, 0.1],\n",
       " [0.28, 0.4, 0.11, 0.21],\n",
       " [0.28, 0.4, 0.22, 0.1],\n",
       " [0.41, 0.11, 0.22, 0.26],\n",
       " [0.41, 0.11, 0.27, 0.21],\n",
       " [0.41, 0.23, 0.11, 0.25],\n",
       " [0.41, 0.22, 0.27, 0.1],\n",
       " [0.4, 0.28, 0.11, 0.21],\n",
       " [0.4, 0.28, 0.22, 0.1]]"
      ]
     },
     "execution_count": 33,
     "metadata": {},
     "output_type": "execute_result"
    }
   ],
   "source": [
    "normalized_list"
   ]
  },
  {
   "cell_type": "code",
   "execution_count": 34,
   "metadata": {},
   "outputs": [],
   "source": [
    "normalized_df = pd.DataFrame(normalized_list)"
   ]
  },
  {
   "cell_type": "code",
   "execution_count": 35,
   "metadata": {
    "scrolled": true
   },
   "outputs": [
    {
     "data": {
      "text/html": [
       "<div>\n",
       "<style>\n",
       "    .dataframe thead tr:only-child th {\n",
       "        text-align: right;\n",
       "    }\n",
       "\n",
       "    .dataframe thead th {\n",
       "        text-align: left;\n",
       "    }\n",
       "\n",
       "    .dataframe tbody tr th {\n",
       "        vertical-align: top;\n",
       "    }\n",
       "</style>\n",
       "<table border=\"1\" class=\"dataframe\">\n",
       "  <thead>\n",
       "    <tr style=\"text-align: right;\">\n",
       "      <th></th>\n",
       "      <th>0</th>\n",
       "      <th>1</th>\n",
       "      <th>2</th>\n",
       "      <th>3</th>\n",
       "    </tr>\n",
       "  </thead>\n",
       "  <tbody>\n",
       "    <tr>\n",
       "      <th>0</th>\n",
       "      <td>0.12</td>\n",
       "      <td>0.23</td>\n",
       "      <td>0.27</td>\n",
       "      <td>0.38</td>\n",
       "    </tr>\n",
       "    <tr>\n",
       "      <th>1</th>\n",
       "      <td>0.12</td>\n",
       "      <td>0.23</td>\n",
       "      <td>0.38</td>\n",
       "      <td>0.27</td>\n",
       "    </tr>\n",
       "    <tr>\n",
       "      <th>2</th>\n",
       "      <td>0.12</td>\n",
       "      <td>0.29</td>\n",
       "      <td>0.22</td>\n",
       "      <td>0.37</td>\n",
       "    </tr>\n",
       "    <tr>\n",
       "      <th>3</th>\n",
       "      <td>0.12</td>\n",
       "      <td>0.28</td>\n",
       "      <td>0.39</td>\n",
       "      <td>0.21</td>\n",
       "    </tr>\n",
       "    <tr>\n",
       "      <th>4</th>\n",
       "      <td>0.12</td>\n",
       "      <td>0.40</td>\n",
       "      <td>0.22</td>\n",
       "      <td>0.26</td>\n",
       "    </tr>\n",
       "    <tr>\n",
       "      <th>5</th>\n",
       "      <td>0.11</td>\n",
       "      <td>0.39</td>\n",
       "      <td>0.28</td>\n",
       "      <td>0.21</td>\n",
       "    </tr>\n",
       "    <tr>\n",
       "      <th>6</th>\n",
       "      <td>0.24</td>\n",
       "      <td>0.11</td>\n",
       "      <td>0.27</td>\n",
       "      <td>0.38</td>\n",
       "    </tr>\n",
       "    <tr>\n",
       "      <th>7</th>\n",
       "      <td>0.24</td>\n",
       "      <td>0.11</td>\n",
       "      <td>0.38</td>\n",
       "      <td>0.27</td>\n",
       "    </tr>\n",
       "    <tr>\n",
       "      <th>8</th>\n",
       "      <td>0.24</td>\n",
       "      <td>0.28</td>\n",
       "      <td>0.11</td>\n",
       "      <td>0.37</td>\n",
       "    </tr>\n",
       "    <tr>\n",
       "      <th>9</th>\n",
       "      <td>0.23</td>\n",
       "      <td>0.28</td>\n",
       "      <td>0.39</td>\n",
       "      <td>0.11</td>\n",
       "    </tr>\n",
       "    <tr>\n",
       "      <th>10</th>\n",
       "      <td>0.23</td>\n",
       "      <td>0.40</td>\n",
       "      <td>0.11</td>\n",
       "      <td>0.26</td>\n",
       "    </tr>\n",
       "    <tr>\n",
       "      <th>11</th>\n",
       "      <td>0.23</td>\n",
       "      <td>0.39</td>\n",
       "      <td>0.28</td>\n",
       "      <td>0.10</td>\n",
       "    </tr>\n",
       "    <tr>\n",
       "      <th>12</th>\n",
       "      <td>0.30</td>\n",
       "      <td>0.11</td>\n",
       "      <td>0.22</td>\n",
       "      <td>0.37</td>\n",
       "    </tr>\n",
       "    <tr>\n",
       "      <th>13</th>\n",
       "      <td>0.29</td>\n",
       "      <td>0.11</td>\n",
       "      <td>0.38</td>\n",
       "      <td>0.21</td>\n",
       "    </tr>\n",
       "    <tr>\n",
       "      <th>14</th>\n",
       "      <td>0.30</td>\n",
       "      <td>0.23</td>\n",
       "      <td>0.11</td>\n",
       "      <td>0.37</td>\n",
       "    </tr>\n",
       "    <tr>\n",
       "      <th>15</th>\n",
       "      <td>0.29</td>\n",
       "      <td>0.22</td>\n",
       "      <td>0.38</td>\n",
       "      <td>0.10</td>\n",
       "    </tr>\n",
       "    <tr>\n",
       "      <th>16</th>\n",
       "      <td>0.28</td>\n",
       "      <td>0.40</td>\n",
       "      <td>0.11</td>\n",
       "      <td>0.21</td>\n",
       "    </tr>\n",
       "    <tr>\n",
       "      <th>17</th>\n",
       "      <td>0.28</td>\n",
       "      <td>0.40</td>\n",
       "      <td>0.22</td>\n",
       "      <td>0.10</td>\n",
       "    </tr>\n",
       "    <tr>\n",
       "      <th>18</th>\n",
       "      <td>0.41</td>\n",
       "      <td>0.11</td>\n",
       "      <td>0.22</td>\n",
       "      <td>0.26</td>\n",
       "    </tr>\n",
       "    <tr>\n",
       "      <th>19</th>\n",
       "      <td>0.41</td>\n",
       "      <td>0.11</td>\n",
       "      <td>0.27</td>\n",
       "      <td>0.21</td>\n",
       "    </tr>\n",
       "    <tr>\n",
       "      <th>20</th>\n",
       "      <td>0.41</td>\n",
       "      <td>0.23</td>\n",
       "      <td>0.11</td>\n",
       "      <td>0.25</td>\n",
       "    </tr>\n",
       "    <tr>\n",
       "      <th>21</th>\n",
       "      <td>0.41</td>\n",
       "      <td>0.22</td>\n",
       "      <td>0.27</td>\n",
       "      <td>0.10</td>\n",
       "    </tr>\n",
       "    <tr>\n",
       "      <th>22</th>\n",
       "      <td>0.40</td>\n",
       "      <td>0.28</td>\n",
       "      <td>0.11</td>\n",
       "      <td>0.21</td>\n",
       "    </tr>\n",
       "    <tr>\n",
       "      <th>23</th>\n",
       "      <td>0.40</td>\n",
       "      <td>0.28</td>\n",
       "      <td>0.22</td>\n",
       "      <td>0.10</td>\n",
       "    </tr>\n",
       "  </tbody>\n",
       "</table>\n",
       "</div>"
      ],
      "text/plain": [
       "       0     1     2     3\n",
       "0   0.12  0.23  0.27  0.38\n",
       "1   0.12  0.23  0.38  0.27\n",
       "2   0.12  0.29  0.22  0.37\n",
       "3   0.12  0.28  0.39  0.21\n",
       "4   0.12  0.40  0.22  0.26\n",
       "5   0.11  0.39  0.28  0.21\n",
       "6   0.24  0.11  0.27  0.38\n",
       "7   0.24  0.11  0.38  0.27\n",
       "8   0.24  0.28  0.11  0.37\n",
       "9   0.23  0.28  0.39  0.11\n",
       "10  0.23  0.40  0.11  0.26\n",
       "11  0.23  0.39  0.28  0.10\n",
       "12  0.30  0.11  0.22  0.37\n",
       "13  0.29  0.11  0.38  0.21\n",
       "14  0.30  0.23  0.11  0.37\n",
       "15  0.29  0.22  0.38  0.10\n",
       "16  0.28  0.40  0.11  0.21\n",
       "17  0.28  0.40  0.22  0.10\n",
       "18  0.41  0.11  0.22  0.26\n",
       "19  0.41  0.11  0.27  0.21\n",
       "20  0.41  0.23  0.11  0.25\n",
       "21  0.41  0.22  0.27  0.10\n",
       "22  0.40  0.28  0.11  0.21\n",
       "23  0.40  0.28  0.22  0.10"
      ]
     },
     "execution_count": 35,
     "metadata": {},
     "output_type": "execute_result"
    }
   ],
   "source": [
    "normalized_df"
   ]
  },
  {
   "cell_type": "code",
   "execution_count": 40,
   "metadata": {},
   "outputs": [
    {
     "data": {
      "text/plain": [
       "0    0.262500\n",
       "1    0.253750\n",
       "2    0.246667\n",
       "3    0.236667\n",
       "dtype: float64"
      ]
     },
     "execution_count": 40,
     "metadata": {},
     "output_type": "execute_result"
    }
   ],
   "source": [
    "normalized_df.mean()"
   ]
  },
  {
   "cell_type": "code",
   "execution_count": 41,
   "metadata": {},
   "outputs": [
    {
     "data": {
      "text/plain": [
       "0    0.011272\n",
       "1    0.011129\n",
       "2    0.010128\n",
       "3    0.009997\n",
       "dtype: float64"
      ]
     },
     "execution_count": 41,
     "metadata": {},
     "output_type": "execute_result"
    }
   ],
   "source": [
    "normalized_df.var()"
   ]
  },
  {
   "cell_type": "code",
   "execution_count": 42,
   "metadata": {},
   "outputs": [
    {
     "data": {
      "text/plain": [
       "0    0.106168\n",
       "1    0.105493\n",
       "2    0.100636\n",
       "3    0.099986\n",
       "dtype: float64"
      ]
     },
     "execution_count": 42,
     "metadata": {},
     "output_type": "execute_result"
    }
   ],
   "source": [
    "normalized_df.std()"
   ]
  },
  {
   "cell_type": "code",
   "execution_count": null,
   "metadata": {
    "collapsed": true
   },
   "outputs": [],
   "source": []
  }
 ],
 "metadata": {
  "kernelspec": {
   "display_name": "Python 3",
   "language": "python",
   "name": "python3"
  },
  "language_info": {
   "codemirror_mode": {
    "name": "ipython",
    "version": 3
   },
   "file_extension": ".py",
   "mimetype": "text/x-python",
   "name": "python",
   "nbconvert_exporter": "python",
   "pygments_lexer": "ipython3",
   "version": "3.6.1"
  }
 },
 "nbformat": 4,
 "nbformat_minor": 2
}
