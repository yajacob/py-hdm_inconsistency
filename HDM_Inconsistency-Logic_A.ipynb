{
 "cells": [
  {
   "cell_type": "code",
   "execution_count": 24,
   "metadata": {
    "collapsed": true
   },
   "outputs": [],
   "source": [
    "import pandas as pd"
   ]
  },
  {
   "cell_type": "code",
   "execution_count": 11,
   "metadata": {
    "collapsed": true
   },
   "outputs": [],
   "source": [
    "def step1_matrix_a(resp_data):\n",
    "    temp_list = resp_data.split(\"|\")\n",
    "    n_fact = {20:5, 12:4, 6:3}\n",
    "    matrix_size = n_fact[len(temp_list)]\n",
    "    \n",
    "    matrix = [[0 for col in range(matrix_size)] for row in range(matrix_size)]\n",
    "    for idx, tl in enumerate(temp_list):\n",
    "        pair_data = tl.split(\",\")\n",
    "\n",
    "        # first item\n",
    "        if idx % 2 == 0:\n",
    "            col_1st = int(pair_data[0][-1:]) - 1\n",
    "            pair_1st_val = int(pair_data[2])\n",
    "            \n",
    "        # second item\n",
    "        else:\n",
    "            col_2nd = int(pair_data[0][-1:]) - 1\n",
    "            row_2nd = col_1st\n",
    "            row_1st = col_2nd\n",
    "            pair_2nd_val = pair_data[2]\n",
    "            matrix[row_1st][col_1st] = int(pair_1st_val)\n",
    "            matrix[row_2nd][col_2nd] = int(pair_2nd_val)\n",
    "        \n",
    "    return matrix"
   ]
  },
  {
   "cell_type": "code",
   "execution_count": 12,
   "metadata": {},
   "outputs": [
    {
     "data": {
      "text/plain": [
       "4"
      ]
     },
     "execution_count": 12,
     "metadata": {},
     "output_type": "execute_result"
    }
   ],
   "source": [
    "resp_data = 'CR111,A,40|CR112,B,60|CR114,D,57|CR113,C,43|CR113,C,75|CR111,A,25|CR112,B,38|CR114,D,62|CR111,A,20|CR114,D,80|CR112,B,50|CR113,C,50'\n",
    "n_fact = {20:5, 12:4, 6:3, 2:2}\n",
    "matrix_size = n_fact[len(resp_data.split(\"|\"))]\n",
    "matrix_size"
   ]
  },
  {
   "cell_type": "code",
   "execution_count": 13,
   "metadata": {},
   "outputs": [
    {
     "data": {
      "text/plain": [
       "[0, 0, 0, 0, 0, 0]"
      ]
     },
     "execution_count": 13,
     "metadata": {},
     "output_type": "execute_result"
    }
   ],
   "source": [
    "temp_list = resp_data.split(\"|\")\n",
    "fact_size_dic = {30:6, 20:5, 12:4, 6:3}\n",
    "row_size_dic = {6:15, 5:10, 4:6, 3:3}\n",
    "matrix_size = fact_size_dic[len(temp_list)]\n",
    "matrix_pair = [0 for i in range(row_size_dic[matrix_size])]\n",
    "matrix_pair"
   ]
  },
  {
   "cell_type": "code",
   "execution_count": 14,
   "metadata": {},
   "outputs": [
    {
     "data": {
      "text/plain": [
       "[{0: 40, 1: 60},\n",
       " {2: 43, 3: 57},\n",
       " {0: 25, 2: 75},\n",
       " {1: 38, 3: 62},\n",
       " {0: 20, 3: 80},\n",
       " {1: 50, 2: 50}]"
      ]
     },
     "execution_count": 14,
     "metadata": {},
     "output_type": "execute_result"
    }
   ],
   "source": [
    "temp_list = resp_data.split(\"|\")\n",
    "list_idx = 0\n",
    "temp_dic = {}\n",
    "for idx, tl in enumerate(temp_list):\n",
    "    pair_data = tl.split(\",\")\n",
    "\n",
    "    res_id = int(pair_data[0][-1:]) - 1\n",
    "    res_val = int(pair_data[2])\n",
    "    temp_dic[res_id] = res_val\n",
    "    \n",
    "    # second item\n",
    "    if idx % 2 != 0:\n",
    "        matrix_pair[list_idx] = temp_dic\n",
    "        temp_dic = {}\n",
    "        list_idx += 1\n",
    "        \n",
    "matrix_pair"
   ]
  },
  {
   "cell_type": "code",
   "execution_count": 31,
   "metadata": {
    "scrolled": true
   },
   "outputs": [
    {
     "data": {
      "text/plain": [
       "[[0, 60, 75, 80], [40, 0, 50, 62], [25, 50, 0, 57], [20, 38, 43, 0]]"
      ]
     },
     "execution_count": 31,
     "metadata": {},
     "output_type": "execute_result"
    }
   ],
   "source": [
    "idx_list = [0,1,2,3]\n",
    "\n",
    "matrix_size_dic = {15:6, 10:5, 6:4, 3:3}\n",
    "pair_size = len(matrix_pair)\n",
    "matrix_size = matrix_size_dic[pair_size]\n",
    "\n",
    "matrix = [[0 for col in range(matrix_size)] for row in range(matrix_size)] \n",
    "for idx in range(pair_size):\n",
    "    temp_pair = matrix_pair[idx]\n",
    "    col1_idx = idx_list[list(temp_pair.keys())[0]]\n",
    "    col2_idx = idx_list[list(temp_pair.keys())[1]]\n",
    "    row2_idx = col1_idx\n",
    "    row1_idx = col2_idx\n",
    "\n",
    "    val1 = list(temp_pair.values())[0]\n",
    "    val2 = list(temp_pair.values())[1]\n",
    "    matrix[row1_idx][col1_idx] = val1\n",
    "    matrix[row2_idx][col2_idx] = val2\n",
    "matrix"
   ]
  }
 ],
 "metadata": {
  "kernelspec": {
   "display_name": "Python 3",
   "language": "python",
   "name": "python3"
  },
  "language_info": {
   "codemirror_mode": {
    "name": "ipython",
    "version": 3
   },
   "file_extension": ".py",
   "mimetype": "text/x-python",
   "name": "python",
   "nbconvert_exporter": "python",
   "pygments_lexer": "ipython3",
   "version": "3.6.1"
  }
 },
 "nbformat": 4,
 "nbformat_minor": 2
}
