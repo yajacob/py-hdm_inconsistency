{
 "cells": [
  {
   "cell_type": "code",
   "execution_count": 1,
   "metadata": {
    "collapsed": true
   },
   "outputs": [],
   "source": [
    "import pandas as pd\n",
    "import numpy as np\n",
    "import json"
   ]
  },
  {
   "cell_type": "code",
   "execution_count": 2,
   "metadata": {
    "collapsed": true
   },
   "outputs": [],
   "source": [
    "def tround(num, place):\n",
    "    num += pow(0.1, place+4)\n",
    "    return round(num, place)"
   ]
  },
  {
   "cell_type": "code",
   "execution_count": 3,
   "metadata": {
    "collapsed": true
   },
   "outputs": [],
   "source": [
    "def step1_matrix_a(resp_data):\n",
    "    temp_list = resp_data.split(\"|\")\n",
    "    n_fact = {20:5, 12:4, 6:3}\n",
    "    matrix_size = n_fact[len(temp_list)]\n",
    "    \n",
    "    matrix = [[0 for col in range(matrix_size)] for row in range(matrix_size)]\n",
    "    for idx, tl in enumerate(temp_list):\n",
    "        pair_data = tl.split(\",\")\n",
    "\n",
    "        # first item\n",
    "        if idx % 2 == 0:\n",
    "            col_1st = int(pair_data[0][-1:]) - 1\n",
    "            pair_1st_val = int(pair_data[2])\n",
    "            \n",
    "        # second item\n",
    "        else:\n",
    "            col_2nd = int(pair_data[0][-1:]) - 1\n",
    "            row_2nd = col_1st\n",
    "            row_1st = col_2nd\n",
    "            pair_2nd_val = pair_data[2]\n",
    "            matrix[row_1st][col_1st] = int(pair_1st_val)\n",
    "            matrix[row_2nd][col_2nd] = int(pair_2nd_val)\n",
    "        \n",
    "    return matrix"
   ]
  },
  {
   "cell_type": "code",
   "execution_count": 4,
   "metadata": {
    "collapsed": true
   },
   "outputs": [],
   "source": [
    "def step2_matrix_b(matrix_a, matrix_size):\n",
    "    matrix = [[0 for col in range(matrix_size)] for row in range(matrix_size)]\n",
    "    \n",
    "    for i in range(matrix_size):\n",
    "        for j in range(matrix_size):\n",
    "            if i == j:\n",
    "                matrix[i][j] = 1\n",
    "            else:\n",
    "                matrix[i][j] = tround(matrix_a[i][j]/matrix_a[j][i], 2)\n",
    "    return matrix"
   ]
  },
  {
   "cell_type": "code",
   "execution_count": 5,
   "metadata": {
    "collapsed": true
   },
   "outputs": [],
   "source": [
    "def step3_matrix_c(matrix_b, matrix_size):\n",
    "    matrix = [[0 for col in range(matrix_size-1)] for row in range(matrix_size)]\n",
    "    \n",
    "    for i in range(matrix_size):\n",
    "        for j in range(matrix_size-1):\n",
    "            matrix[i][j] = tround(matrix_b[i][j]/matrix_b[i][j+1], 2)\n",
    "    return matrix"
   ]
  },
  {
   "cell_type": "code",
   "execution_count": 6,
   "metadata": {
    "collapsed": true
   },
   "outputs": [],
   "source": [
    "def step4_mean_list(matrix_c, matrix_size):\n",
    "    matrix_mean = [0 for i in range(matrix_size - 1)]\n",
    "    \n",
    "    for i in range(matrix_size - 1):\n",
    "        temp_sum = 0.0\n",
    "        for j in range(matrix_size):\n",
    "            temp_sum += matrix_c[j][i]\n",
    "        matrix_mean[i] = tround(temp_sum / matrix_size, 2)\n",
    "    \n",
    "    return matrix_mean"
   ]
  },
  {
   "cell_type": "code",
   "execution_count": 7,
   "metadata": {
    "collapsed": true
   },
   "outputs": [],
   "source": [
    "def step5_normalize(matrix_mean, matrix_size):\n",
    "    norm_val = [0 for i in range(matrix_size)]\n",
    "    norm_val[3] = 1\n",
    "    norm_val[2] = tround(matrix_mean[2], 2)\n",
    "    norm_val[1] = tround(norm_val[2] * matrix_mean[1], 2)\n",
    "    norm_val[0] = tround(norm_val[1] * matrix_mean[0], 2)\n",
    "    \n",
    "    sum_val = 0.0\n",
    "    for val in norm_val:\n",
    "        sum_val += val\n",
    "        \n",
    "    for idx, val in enumerate(norm_val):\n",
    "        norm_val[idx] = tround(val / sum_val, 2)\n",
    "    \n",
    "    return norm_val"
   ]
  },
  {
   "cell_type": "code",
   "execution_count": 15,
   "metadata": {},
   "outputs": [
    {
     "data": {
      "text/plain": [
       "4"
      ]
     },
     "execution_count": 15,
     "metadata": {},
     "output_type": "execute_result"
    }
   ],
   "source": [
    "str_al = 'CR111,A,40|CR112,B,60|CR114,D,57|CR113,C,43|CR113,C,75|CR111,A,25|CR112,B,38|CR114,D,62|CR111,A,20|CR114,D,80|CR112,B,50|CR113,C,50'\n",
    "n_fact = {20:5, 12:4, 6:3, 2:2}\n",
    "matrix_size = n_fact[len(str_al.split(\"|\"))]\n",
    "matrix_size"
   ]
  },
  {
   "cell_type": "code",
   "execution_count": 16,
   "metadata": {},
   "outputs": [
    {
     "data": {
      "text/plain": [
       "[[0, 60, 75, 80], [40, 0, 50, 62], [25, 50, 0, 57], [20, 38, 43, 0]]"
      ]
     },
     "execution_count": 16,
     "metadata": {},
     "output_type": "execute_result"
    }
   ],
   "source": [
    "matrix_a = step1_matrix_a(str_al)\n",
    "df = pd.DataFrame(matrix_a)\n",
    "\n",
    "i=0\n",
    "j=1\n",
    "k=2\n",
    "l=3\n",
    "matrix_a = df[[i,j,k,l]].values.tolist()\n",
    "matrix_a"
   ]
  },
  {
   "cell_type": "code",
   "execution_count": 17,
   "metadata": {},
   "outputs": [
    {
     "data": {
      "text/plain": [
       "[[1, 1.5, 3.0, 4.0],\n",
       " [0.67, 1, 1.0, 1.63],\n",
       " [0.33, 1.0, 1, 1.33],\n",
       " [0.25, 0.61, 0.75, 1]]"
      ]
     },
     "execution_count": 17,
     "metadata": {},
     "output_type": "execute_result"
    }
   ],
   "source": [
    "matrix_b = step2_matrix_b(matrix_a, matrix_size)\n",
    "matrix_b"
   ]
  },
  {
   "cell_type": "code",
   "execution_count": 18,
   "metadata": {},
   "outputs": [
    {
     "data": {
      "text/plain": [
       "[[0, 60, 80, 75], [40, 0, 62, 50], [25, 50, 57, 0], [20, 38, 0, 43]]"
      ]
     },
     "execution_count": 18,
     "metadata": {},
     "output_type": "execute_result"
    }
   ],
   "source": [
    "matrix_a = step1_matrix_a(str_al)\n",
    "df = pd.DataFrame(matrix_a)\n",
    "\n",
    "i=0\n",
    "j=1\n",
    "k=3\n",
    "l=2\n",
    "matrix_a = df[[i,j,k,l]].values.tolist()\n",
    "matrix_a"
   ]
  },
  {
   "cell_type": "code",
   "execution_count": 19,
   "metadata": {},
   "outputs": [
    {
     "ename": "ZeroDivisionError",
     "evalue": "division by zero",
     "output_type": "error",
     "traceback": [
      "\u001b[1;31m---------------------------------------------------------------------------\u001b[0m",
      "\u001b[1;31mZeroDivisionError\u001b[0m                         Traceback (most recent call last)",
      "\u001b[1;32m<ipython-input-19-8316fac423ce>\u001b[0m in \u001b[0;36m<module>\u001b[1;34m()\u001b[0m\n\u001b[1;32m----> 1\u001b[1;33m \u001b[0mmatrix_b\u001b[0m \u001b[1;33m=\u001b[0m \u001b[0mstep2_matrix_b\u001b[0m\u001b[1;33m(\u001b[0m\u001b[0mmatrix_a\u001b[0m\u001b[1;33m,\u001b[0m \u001b[0mmatrix_size\u001b[0m\u001b[1;33m)\u001b[0m\u001b[1;33m\u001b[0m\u001b[0m\n\u001b[0m\u001b[0;32m      2\u001b[0m \u001b[0mmatrix_b\u001b[0m\u001b[1;33m\u001b[0m\u001b[0m\n",
      "\u001b[1;32m<ipython-input-4-2df2b4bf72e4>\u001b[0m in \u001b[0;36mstep2_matrix_b\u001b[1;34m(matrix_a, matrix_size)\u001b[0m\n\u001b[0;32m      7\u001b[0m                 \u001b[0mmatrix\u001b[0m\u001b[1;33m[\u001b[0m\u001b[0mi\u001b[0m\u001b[1;33m]\u001b[0m\u001b[1;33m[\u001b[0m\u001b[0mj\u001b[0m\u001b[1;33m]\u001b[0m \u001b[1;33m=\u001b[0m \u001b[1;36m1\u001b[0m\u001b[1;33m\u001b[0m\u001b[0m\n\u001b[0;32m      8\u001b[0m             \u001b[1;32melse\u001b[0m\u001b[1;33m:\u001b[0m\u001b[1;33m\u001b[0m\u001b[0m\n\u001b[1;32m----> 9\u001b[1;33m                 \u001b[0mmatrix\u001b[0m\u001b[1;33m[\u001b[0m\u001b[0mi\u001b[0m\u001b[1;33m]\u001b[0m\u001b[1;33m[\u001b[0m\u001b[0mj\u001b[0m\u001b[1;33m]\u001b[0m \u001b[1;33m=\u001b[0m \u001b[0mtround\u001b[0m\u001b[1;33m(\u001b[0m\u001b[0mmatrix_a\u001b[0m\u001b[1;33m[\u001b[0m\u001b[0mi\u001b[0m\u001b[1;33m]\u001b[0m\u001b[1;33m[\u001b[0m\u001b[0mj\u001b[0m\u001b[1;33m]\u001b[0m\u001b[1;33m/\u001b[0m\u001b[0mmatrix_a\u001b[0m\u001b[1;33m[\u001b[0m\u001b[0mj\u001b[0m\u001b[1;33m]\u001b[0m\u001b[1;33m[\u001b[0m\u001b[0mi\u001b[0m\u001b[1;33m]\u001b[0m\u001b[1;33m,\u001b[0m \u001b[1;36m2\u001b[0m\u001b[1;33m)\u001b[0m\u001b[1;33m\u001b[0m\u001b[0m\n\u001b[0m\u001b[0;32m     10\u001b[0m     \u001b[1;32mreturn\u001b[0m \u001b[0mmatrix\u001b[0m\u001b[1;33m\u001b[0m\u001b[0m\n",
      "\u001b[1;31mZeroDivisionError\u001b[0m: division by zero"
     ]
    }
   ],
   "source": [
    "matrix_b = step2_matrix_b(matrix_a, matrix_size)\n",
    "matrix_b"
   ]
  },
  {
   "cell_type": "code",
   "execution_count": 14,
   "metadata": {},
   "outputs": [
    {
     "ename": "ZeroDivisionError",
     "evalue": "division by zero",
     "output_type": "error",
     "traceback": [
      "\u001b[1;31m---------------------------------------------------------------------------\u001b[0m",
      "\u001b[1;31mZeroDivisionError\u001b[0m                         Traceback (most recent call last)",
      "\u001b[1;32m<ipython-input-14-3d1b2271f5b5>\u001b[0m in \u001b[0;36m<module>\u001b[1;34m()\u001b[0m\n\u001b[0;32m     11\u001b[0m                 \u001b[1;32mif\u001b[0m \u001b[0mk\u001b[0m\u001b[1;33m==\u001b[0m\u001b[0ml\u001b[0m\u001b[1;33m:\u001b[0m \u001b[1;32mcontinue\u001b[0m\u001b[1;33m\u001b[0m\u001b[0m\n\u001b[0;32m     12\u001b[0m                 \u001b[0mmatrix_a\u001b[0m \u001b[1;33m=\u001b[0m \u001b[0mdf\u001b[0m\u001b[1;33m[\u001b[0m\u001b[1;33m[\u001b[0m\u001b[0mi\u001b[0m\u001b[1;33m,\u001b[0m\u001b[0mj\u001b[0m\u001b[1;33m,\u001b[0m\u001b[0mk\u001b[0m\u001b[1;33m,\u001b[0m\u001b[0ml\u001b[0m\u001b[1;33m]\u001b[0m\u001b[1;33m]\u001b[0m\u001b[1;33m.\u001b[0m\u001b[0mvalues\u001b[0m\u001b[1;33m.\u001b[0m\u001b[0mtolist\u001b[0m\u001b[1;33m(\u001b[0m\u001b[1;33m)\u001b[0m\u001b[1;33m\u001b[0m\u001b[0m\n\u001b[1;32m---> 13\u001b[1;33m                 \u001b[0mmatrix_b\u001b[0m \u001b[1;33m=\u001b[0m \u001b[0mstep2_matrix_b\u001b[0m\u001b[1;33m(\u001b[0m\u001b[0mmatrix_a\u001b[0m\u001b[1;33m,\u001b[0m \u001b[0mmatrix_size\u001b[0m\u001b[1;33m)\u001b[0m\u001b[1;33m\u001b[0m\u001b[0m\n\u001b[0m\u001b[0;32m     14\u001b[0m                 \u001b[0mmatrix_c\u001b[0m \u001b[1;33m=\u001b[0m \u001b[0mstep3_matrix_c\u001b[0m\u001b[1;33m(\u001b[0m\u001b[0mmatrix_b\u001b[0m\u001b[1;33m,\u001b[0m \u001b[0mmatrix_size\u001b[0m\u001b[1;33m)\u001b[0m\u001b[1;33m\u001b[0m\u001b[0m\n\u001b[0;32m     15\u001b[0m                 \u001b[0mmatrix_mean\u001b[0m \u001b[1;33m=\u001b[0m \u001b[0mstep4_mean_list\u001b[0m\u001b[1;33m(\u001b[0m\u001b[0mmatrix_c\u001b[0m\u001b[1;33m,\u001b[0m \u001b[0mmatrix_size\u001b[0m\u001b[1;33m)\u001b[0m\u001b[1;33m\u001b[0m\u001b[0m\n",
      "\u001b[1;32m<ipython-input-4-2df2b4bf72e4>\u001b[0m in \u001b[0;36mstep2_matrix_b\u001b[1;34m(matrix_a, matrix_size)\u001b[0m\n\u001b[0;32m      7\u001b[0m                 \u001b[0mmatrix\u001b[0m\u001b[1;33m[\u001b[0m\u001b[0mi\u001b[0m\u001b[1;33m]\u001b[0m\u001b[1;33m[\u001b[0m\u001b[0mj\u001b[0m\u001b[1;33m]\u001b[0m \u001b[1;33m=\u001b[0m \u001b[1;36m1\u001b[0m\u001b[1;33m\u001b[0m\u001b[0m\n\u001b[0;32m      8\u001b[0m             \u001b[1;32melse\u001b[0m\u001b[1;33m:\u001b[0m\u001b[1;33m\u001b[0m\u001b[0m\n\u001b[1;32m----> 9\u001b[1;33m                 \u001b[0mmatrix\u001b[0m\u001b[1;33m[\u001b[0m\u001b[0mi\u001b[0m\u001b[1;33m]\u001b[0m\u001b[1;33m[\u001b[0m\u001b[0mj\u001b[0m\u001b[1;33m]\u001b[0m \u001b[1;33m=\u001b[0m \u001b[0mtround\u001b[0m\u001b[1;33m(\u001b[0m\u001b[0mmatrix_a\u001b[0m\u001b[1;33m[\u001b[0m\u001b[0mi\u001b[0m\u001b[1;33m]\u001b[0m\u001b[1;33m[\u001b[0m\u001b[0mj\u001b[0m\u001b[1;33m]\u001b[0m\u001b[1;33m/\u001b[0m\u001b[0mmatrix_a\u001b[0m\u001b[1;33m[\u001b[0m\u001b[0mj\u001b[0m\u001b[1;33m]\u001b[0m\u001b[1;33m[\u001b[0m\u001b[0mi\u001b[0m\u001b[1;33m]\u001b[0m\u001b[1;33m,\u001b[0m \u001b[1;36m2\u001b[0m\u001b[1;33m)\u001b[0m\u001b[1;33m\u001b[0m\u001b[0m\n\u001b[0m\u001b[0;32m     10\u001b[0m     \u001b[1;32mreturn\u001b[0m \u001b[0mmatrix\u001b[0m\u001b[1;33m\u001b[0m\u001b[0m\n",
      "\u001b[1;31mZeroDivisionError\u001b[0m: division by zero"
     ]
    }
   ],
   "source": [
    "normalized_list = []\n",
    "for i in range(4):\n",
    "    for j in range(4):\n",
    "        if i==j: continue\n",
    "        for k in range(4):\n",
    "            if i==k: continue\n",
    "            if j==k: continue\n",
    "            for l in range(4):\n",
    "                if i==l: continue\n",
    "                if j==l: continue\n",
    "                if k==l: continue\n",
    "                matrix_a = df[[i,j,k,l]].values.tolist()\n",
    "                matrix_b = step2_matrix_b(matrix_a, matrix_size)\n",
    "                matrix_c = step3_matrix_c(matrix_b, matrix_size)\n",
    "                matrix_mean = step4_mean_list(matrix_c, matrix_size)\n",
    "                norm_val = step5_normalize(matrix_mean, matrix_size)\n",
    "                normalized_list.append(norm_val)"
   ]
  },
  {
   "cell_type": "code",
   "execution_count": 48,
   "metadata": {},
   "outputs": [
    {
     "data": {
      "text/plain": [
       "[[0.12, 0.23, 0.27, 0.38],\n",
       " [0.12, 0.23, 0.38, 0.27],\n",
       " [0.12, 0.29, 0.22, 0.37],\n",
       " [0.12, 0.28, 0.39, 0.21],\n",
       " [0.12, 0.4, 0.22, 0.26],\n",
       " [0.11, 0.39, 0.28, 0.21],\n",
       " [0.24, 0.11, 0.27, 0.38],\n",
       " [0.24, 0.11, 0.38, 0.27],\n",
       " [0.24, 0.28, 0.11, 0.37],\n",
       " [0.23, 0.28, 0.39, 0.11],\n",
       " [0.23, 0.4, 0.11, 0.26],\n",
       " [0.23, 0.39, 0.28, 0.1],\n",
       " [0.3, 0.11, 0.22, 0.37],\n",
       " [0.29, 0.11, 0.38, 0.21],\n",
       " [0.3, 0.23, 0.11, 0.37],\n",
       " [0.29, 0.22, 0.38, 0.1],\n",
       " [0.28, 0.4, 0.11, 0.21],\n",
       " [0.28, 0.4, 0.22, 0.1],\n",
       " [0.41, 0.11, 0.22, 0.26],\n",
       " [0.41, 0.11, 0.27, 0.21],\n",
       " [0.41, 0.23, 0.11, 0.25],\n",
       " [0.41, 0.22, 0.27, 0.1],\n",
       " [0.4, 0.28, 0.11, 0.21],\n",
       " [0.4, 0.28, 0.22, 0.1]]"
      ]
     },
     "execution_count": 48,
     "metadata": {},
     "output_type": "execute_result"
    }
   ],
   "source": [
    "normalized_list"
   ]
  },
  {
   "cell_type": "code",
   "execution_count": 49,
   "metadata": {
    "collapsed": true
   },
   "outputs": [],
   "source": [
    "normalized_df = pd.DataFrame(normalized_list)"
   ]
  },
  {
   "cell_type": "code",
   "execution_count": 50,
   "metadata": {
    "scrolled": true
   },
   "outputs": [
    {
     "data": {
      "text/html": [
       "<div>\n",
       "<style>\n",
       "    .dataframe thead tr:only-child th {\n",
       "        text-align: right;\n",
       "    }\n",
       "\n",
       "    .dataframe thead th {\n",
       "        text-align: left;\n",
       "    }\n",
       "\n",
       "    .dataframe tbody tr th {\n",
       "        vertical-align: top;\n",
       "    }\n",
       "</style>\n",
       "<table border=\"1\" class=\"dataframe\">\n",
       "  <thead>\n",
       "    <tr style=\"text-align: right;\">\n",
       "      <th></th>\n",
       "      <th>0</th>\n",
       "      <th>1</th>\n",
       "      <th>2</th>\n",
       "      <th>3</th>\n",
       "    </tr>\n",
       "  </thead>\n",
       "  <tbody>\n",
       "    <tr>\n",
       "      <th>0</th>\n",
       "      <td>0.12</td>\n",
       "      <td>0.23</td>\n",
       "      <td>0.27</td>\n",
       "      <td>0.38</td>\n",
       "    </tr>\n",
       "    <tr>\n",
       "      <th>1</th>\n",
       "      <td>0.12</td>\n",
       "      <td>0.23</td>\n",
       "      <td>0.38</td>\n",
       "      <td>0.27</td>\n",
       "    </tr>\n",
       "    <tr>\n",
       "      <th>2</th>\n",
       "      <td>0.12</td>\n",
       "      <td>0.29</td>\n",
       "      <td>0.22</td>\n",
       "      <td>0.37</td>\n",
       "    </tr>\n",
       "    <tr>\n",
       "      <th>3</th>\n",
       "      <td>0.12</td>\n",
       "      <td>0.28</td>\n",
       "      <td>0.39</td>\n",
       "      <td>0.21</td>\n",
       "    </tr>\n",
       "    <tr>\n",
       "      <th>4</th>\n",
       "      <td>0.12</td>\n",
       "      <td>0.40</td>\n",
       "      <td>0.22</td>\n",
       "      <td>0.26</td>\n",
       "    </tr>\n",
       "    <tr>\n",
       "      <th>5</th>\n",
       "      <td>0.11</td>\n",
       "      <td>0.39</td>\n",
       "      <td>0.28</td>\n",
       "      <td>0.21</td>\n",
       "    </tr>\n",
       "    <tr>\n",
       "      <th>6</th>\n",
       "      <td>0.24</td>\n",
       "      <td>0.11</td>\n",
       "      <td>0.27</td>\n",
       "      <td>0.38</td>\n",
       "    </tr>\n",
       "    <tr>\n",
       "      <th>7</th>\n",
       "      <td>0.24</td>\n",
       "      <td>0.11</td>\n",
       "      <td>0.38</td>\n",
       "      <td>0.27</td>\n",
       "    </tr>\n",
       "    <tr>\n",
       "      <th>8</th>\n",
       "      <td>0.24</td>\n",
       "      <td>0.28</td>\n",
       "      <td>0.11</td>\n",
       "      <td>0.37</td>\n",
       "    </tr>\n",
       "    <tr>\n",
       "      <th>9</th>\n",
       "      <td>0.23</td>\n",
       "      <td>0.28</td>\n",
       "      <td>0.39</td>\n",
       "      <td>0.11</td>\n",
       "    </tr>\n",
       "    <tr>\n",
       "      <th>10</th>\n",
       "      <td>0.23</td>\n",
       "      <td>0.40</td>\n",
       "      <td>0.11</td>\n",
       "      <td>0.26</td>\n",
       "    </tr>\n",
       "    <tr>\n",
       "      <th>11</th>\n",
       "      <td>0.23</td>\n",
       "      <td>0.39</td>\n",
       "      <td>0.28</td>\n",
       "      <td>0.10</td>\n",
       "    </tr>\n",
       "    <tr>\n",
       "      <th>12</th>\n",
       "      <td>0.30</td>\n",
       "      <td>0.11</td>\n",
       "      <td>0.22</td>\n",
       "      <td>0.37</td>\n",
       "    </tr>\n",
       "    <tr>\n",
       "      <th>13</th>\n",
       "      <td>0.29</td>\n",
       "      <td>0.11</td>\n",
       "      <td>0.38</td>\n",
       "      <td>0.21</td>\n",
       "    </tr>\n",
       "    <tr>\n",
       "      <th>14</th>\n",
       "      <td>0.30</td>\n",
       "      <td>0.23</td>\n",
       "      <td>0.11</td>\n",
       "      <td>0.37</td>\n",
       "    </tr>\n",
       "    <tr>\n",
       "      <th>15</th>\n",
       "      <td>0.29</td>\n",
       "      <td>0.22</td>\n",
       "      <td>0.38</td>\n",
       "      <td>0.10</td>\n",
       "    </tr>\n",
       "    <tr>\n",
       "      <th>16</th>\n",
       "      <td>0.28</td>\n",
       "      <td>0.40</td>\n",
       "      <td>0.11</td>\n",
       "      <td>0.21</td>\n",
       "    </tr>\n",
       "    <tr>\n",
       "      <th>17</th>\n",
       "      <td>0.28</td>\n",
       "      <td>0.40</td>\n",
       "      <td>0.22</td>\n",
       "      <td>0.10</td>\n",
       "    </tr>\n",
       "    <tr>\n",
       "      <th>18</th>\n",
       "      <td>0.41</td>\n",
       "      <td>0.11</td>\n",
       "      <td>0.22</td>\n",
       "      <td>0.26</td>\n",
       "    </tr>\n",
       "    <tr>\n",
       "      <th>19</th>\n",
       "      <td>0.41</td>\n",
       "      <td>0.11</td>\n",
       "      <td>0.27</td>\n",
       "      <td>0.21</td>\n",
       "    </tr>\n",
       "    <tr>\n",
       "      <th>20</th>\n",
       "      <td>0.41</td>\n",
       "      <td>0.23</td>\n",
       "      <td>0.11</td>\n",
       "      <td>0.25</td>\n",
       "    </tr>\n",
       "    <tr>\n",
       "      <th>21</th>\n",
       "      <td>0.41</td>\n",
       "      <td>0.22</td>\n",
       "      <td>0.27</td>\n",
       "      <td>0.10</td>\n",
       "    </tr>\n",
       "    <tr>\n",
       "      <th>22</th>\n",
       "      <td>0.40</td>\n",
       "      <td>0.28</td>\n",
       "      <td>0.11</td>\n",
       "      <td>0.21</td>\n",
       "    </tr>\n",
       "    <tr>\n",
       "      <th>23</th>\n",
       "      <td>0.40</td>\n",
       "      <td>0.28</td>\n",
       "      <td>0.22</td>\n",
       "      <td>0.10</td>\n",
       "    </tr>\n",
       "  </tbody>\n",
       "</table>\n",
       "</div>"
      ],
      "text/plain": [
       "       0     1     2     3\n",
       "0   0.12  0.23  0.27  0.38\n",
       "1   0.12  0.23  0.38  0.27\n",
       "2   0.12  0.29  0.22  0.37\n",
       "3   0.12  0.28  0.39  0.21\n",
       "4   0.12  0.40  0.22  0.26\n",
       "5   0.11  0.39  0.28  0.21\n",
       "6   0.24  0.11  0.27  0.38\n",
       "7   0.24  0.11  0.38  0.27\n",
       "8   0.24  0.28  0.11  0.37\n",
       "9   0.23  0.28  0.39  0.11\n",
       "10  0.23  0.40  0.11  0.26\n",
       "11  0.23  0.39  0.28  0.10\n",
       "12  0.30  0.11  0.22  0.37\n",
       "13  0.29  0.11  0.38  0.21\n",
       "14  0.30  0.23  0.11  0.37\n",
       "15  0.29  0.22  0.38  0.10\n",
       "16  0.28  0.40  0.11  0.21\n",
       "17  0.28  0.40  0.22  0.10\n",
       "18  0.41  0.11  0.22  0.26\n",
       "19  0.41  0.11  0.27  0.21\n",
       "20  0.41  0.23  0.11  0.25\n",
       "21  0.41  0.22  0.27  0.10\n",
       "22  0.40  0.28  0.11  0.21\n",
       "23  0.40  0.28  0.22  0.10"
      ]
     },
     "execution_count": 50,
     "metadata": {},
     "output_type": "execute_result"
    }
   ],
   "source": [
    "normalized_df"
   ]
  },
  {
   "cell_type": "code",
   "execution_count": 51,
   "metadata": {},
   "outputs": [
    {
     "data": {
      "text/plain": [
       "0    0.262500\n",
       "1    0.253750\n",
       "2    0.246667\n",
       "3    0.236667\n",
       "dtype: float64"
      ]
     },
     "execution_count": 51,
     "metadata": {},
     "output_type": "execute_result"
    }
   ],
   "source": [
    "normalized_df.mean()"
   ]
  },
  {
   "cell_type": "code",
   "execution_count": 52,
   "metadata": {},
   "outputs": [
    {
     "data": {
      "text/plain": [
       "0    0.011272\n",
       "1    0.011129\n",
       "2    0.010128\n",
       "3    0.009997\n",
       "dtype: float64"
      ]
     },
     "execution_count": 52,
     "metadata": {},
     "output_type": "execute_result"
    }
   ],
   "source": [
    "normalized_df.var()"
   ]
  },
  {
   "cell_type": "code",
   "execution_count": 53,
   "metadata": {},
   "outputs": [
    {
     "data": {
      "text/plain": [
       "0    0.106168\n",
       "1    0.105493\n",
       "2    0.100636\n",
       "3    0.099986\n",
       "dtype: float64"
      ]
     },
     "execution_count": 53,
     "metadata": {},
     "output_type": "execute_result"
    }
   ],
   "source": [
    "normalized_df.std()"
   ]
  },
  {
   "cell_type": "code",
   "execution_count": null,
   "metadata": {
    "collapsed": true
   },
   "outputs": [],
   "source": []
  }
 ],
 "metadata": {
  "kernelspec": {
   "display_name": "Python 3",
   "language": "python",
   "name": "python3"
  },
  "language_info": {
   "codemirror_mode": {
    "name": "ipython",
    "version": 3
   },
   "file_extension": ".py",
   "mimetype": "text/x-python",
   "name": "python",
   "nbconvert_exporter": "python",
   "pygments_lexer": "ipython3",
   "version": "3.6.1"
  }
 },
 "nbformat": 4,
 "nbformat_minor": 2
}
