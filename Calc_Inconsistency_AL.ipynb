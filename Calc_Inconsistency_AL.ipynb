{
 "cells": [
  {
   "cell_type": "code",
   "execution_count": 1,
   "metadata": {
    "collapsed": true
   },
   "outputs": [],
   "source": [
    "import pandas as pd\n",
    "import numpy as np\n",
    "import json"
   ]
  },
  {
   "cell_type": "code",
   "execution_count": 2,
   "metadata": {
    "collapsed": true
   },
   "outputs": [],
   "source": [
    "def make_list(temp):\n",
    "    temp_list = temp.split(\"|\")\n",
    "    list = []\n",
    "    for tl in temp_list:\n",
    "        list.append(tl.split(\",\"))\n",
    "    return list\n"
   ]
  },
  {
   "cell_type": "code",
   "execution_count": 3,
   "metadata": {
    "collapsed": true
   },
   "outputs": [],
   "source": [
    "str_al = 'CR111,Samsung,26|CR112,LG,74|CR111,Samsung,63|CR113,Sony,37|CR111,Samsung,27|CR114,Apple,73|CR112,LG,27|CR113,Sony,73|CR112,LG,64|CR114,Apple,36|CR113,Sony,76|CR114,Apple,24|CR121,Samsung,8|CR122,LG,92|CR121,Samsung,56|CR123,Sony,44|CR121,Samsung,50|CR124,Apple,50|CR122,LG,63|CR123,Sony,37|CR122,LG,66|CR124,Apple,34|CR123,Sony,72|CR124,Apple,28|CR131,Samsung,26|CR132,LG,74|CR131,Samsung,25|CR133,Sony,75|CR131,Samsung,63|CR134,Apple,37|CR132,LG,65|CR133,Sony,35|CR132,LG,61|CR134,Apple,39|CR133,Sony,68|CR134,Apple,32|CR211,Samsung,50|CR212,LG,50|CR211,Samsung,72|CR213,Sony,28|CR211,Samsung,27|CR214,Apple,73|CR212,LG,68|CR213,Sony,32|CR212,LG,32|CR214,Apple,68|CR213,Sony,50|CR214,Apple,50|CR221,Samsung,50|CR222,LG,50|CR221,Samsung,50|CR223,Sony,50|CR221,Samsung,24|CR224,Apple,76|CR222,LG,71|CR223,Sony,29|CR222,LG,46|CR224,Apple,54|CR223,Sony,61|CR224,Apple,39|CR231,Samsung,23|CR232,LG,77|CR231,Samsung,57|CR233,Sony,43|CR231,Samsung,25|CR234,Apple,75|CR232,LG,60|CR233,Sony,40|CR232,LG,24|CR234,Apple,76|CR233,Sony,50|CR234,Apple,50|CR311,Samsung,26|CR312,LG,74|CR311,Samsung,50|CR313,Sony,50|CR311,Samsung,28|CR314,Apple,72|CR312,LG,61|CR313,Sony,39|CR312,LG,27|CR314,Apple,73|CR313,Sony,74|CR314,Apple,26|CR241,Samsung,25|CR242,LG,75|CR241,Samsung,62|CR243,Sony,38|CR241,Samsung,50|CR244,Apple,50|CR242,LG,59|CR243,Sony,41|CR242,LG,26|CR244,Apple,74|CR243,Sony,66|CR244,Apple,34|CR321,Samsung,33|CR322,LG,67|CR321,Samsung,54|CR323,Sony,46|CR321,Samsung,30|CR324,Apple,70|CR322,LG,68|CR323,Sony,32|CR322,LG,14|CR324,Apple,86|CR323,Sony,79|CR324,Apple,21|CR331,Samsung,24|CR332,LG,76|CR331,Samsung,65|CR333,Sony,35|CR331,Samsung,25|CR334,Apple,75|CR332,LG,69|CR333,Sony,31|CR332,LG,77|CR334,Apple,23|CR333,Sony,73|CR334,Apple,27'"
   ]
  },
  {
   "cell_type": "code",
   "execution_count": 4,
   "metadata": {
    "collapsed": true
   },
   "outputs": [],
   "source": [
    "al_list = make_list(str_al)"
   ]
  },
  {
   "cell_type": "code",
   "execution_count": 5,
   "metadata": {
    "collapsed": true
   },
   "outputs": [],
   "source": [
    "df_al = pd.DataFrame(al_list)"
   ]
  },
  {
   "cell_type": "code",
   "execution_count": 7,
   "metadata": {},
   "outputs": [],
   "source": [
    "df_al.columns = ['ecode', 'ename', 'eval']"
   ]
  },
  {
   "cell_type": "code",
   "execution_count": 8,
   "metadata": {
    "collapsed": true
   },
   "outputs": [],
   "source": [
    "df_al['cr'] = df_al['ecode'].str[-3]\n",
    "df_al['fa'] = df_al['ecode'].str[-3:-1]\n",
    "df_al['al'] = df_al['ecode'].str[-1]"
   ]
  },
  {
   "cell_type": "code",
   "execution_count": 12,
   "metadata": {},
   "outputs": [
    {
     "data": {
      "text/html": [
       "<div>\n",
       "<style>\n",
       "    .dataframe thead tr:only-child th {\n",
       "        text-align: right;\n",
       "    }\n",
       "\n",
       "    .dataframe thead th {\n",
       "        text-align: left;\n",
       "    }\n",
       "\n",
       "    .dataframe tbody tr th {\n",
       "        vertical-align: top;\n",
       "    }\n",
       "</style>\n",
       "<table border=\"1\" class=\"dataframe\">\n",
       "  <thead>\n",
       "    <tr style=\"text-align: right;\">\n",
       "      <th></th>\n",
       "      <th>ecode</th>\n",
       "      <th>ename</th>\n",
       "      <th>eval</th>\n",
       "      <th>cr</th>\n",
       "      <th>fa</th>\n",
       "      <th>al</th>\n",
       "    </tr>\n",
       "  </thead>\n",
       "  <tbody>\n",
       "    <tr>\n",
       "      <th>0</th>\n",
       "      <td>CR111</td>\n",
       "      <td>Samsung</td>\n",
       "      <td>26</td>\n",
       "      <td>1</td>\n",
       "      <td>11</td>\n",
       "      <td>1</td>\n",
       "    </tr>\n",
       "    <tr>\n",
       "      <th>1</th>\n",
       "      <td>CR112</td>\n",
       "      <td>LG</td>\n",
       "      <td>74</td>\n",
       "      <td>1</td>\n",
       "      <td>11</td>\n",
       "      <td>2</td>\n",
       "    </tr>\n",
       "    <tr>\n",
       "      <th>2</th>\n",
       "      <td>CR111</td>\n",
       "      <td>Samsung</td>\n",
       "      <td>63</td>\n",
       "      <td>1</td>\n",
       "      <td>11</td>\n",
       "      <td>1</td>\n",
       "    </tr>\n",
       "    <tr>\n",
       "      <th>3</th>\n",
       "      <td>CR113</td>\n",
       "      <td>Sony</td>\n",
       "      <td>37</td>\n",
       "      <td>1</td>\n",
       "      <td>11</td>\n",
       "      <td>3</td>\n",
       "    </tr>\n",
       "    <tr>\n",
       "      <th>4</th>\n",
       "      <td>CR111</td>\n",
       "      <td>Samsung</td>\n",
       "      <td>27</td>\n",
       "      <td>1</td>\n",
       "      <td>11</td>\n",
       "      <td>1</td>\n",
       "    </tr>\n",
       "    <tr>\n",
       "      <th>5</th>\n",
       "      <td>CR114</td>\n",
       "      <td>Apple</td>\n",
       "      <td>73</td>\n",
       "      <td>1</td>\n",
       "      <td>11</td>\n",
       "      <td>4</td>\n",
       "    </tr>\n",
       "    <tr>\n",
       "      <th>6</th>\n",
       "      <td>CR112</td>\n",
       "      <td>LG</td>\n",
       "      <td>27</td>\n",
       "      <td>1</td>\n",
       "      <td>11</td>\n",
       "      <td>2</td>\n",
       "    </tr>\n",
       "    <tr>\n",
       "      <th>7</th>\n",
       "      <td>CR113</td>\n",
       "      <td>Sony</td>\n",
       "      <td>73</td>\n",
       "      <td>1</td>\n",
       "      <td>11</td>\n",
       "      <td>3</td>\n",
       "    </tr>\n",
       "    <tr>\n",
       "      <th>8</th>\n",
       "      <td>CR112</td>\n",
       "      <td>LG</td>\n",
       "      <td>64</td>\n",
       "      <td>1</td>\n",
       "      <td>11</td>\n",
       "      <td>2</td>\n",
       "    </tr>\n",
       "    <tr>\n",
       "      <th>9</th>\n",
       "      <td>CR114</td>\n",
       "      <td>Apple</td>\n",
       "      <td>36</td>\n",
       "      <td>1</td>\n",
       "      <td>11</td>\n",
       "      <td>4</td>\n",
       "    </tr>\n",
       "    <tr>\n",
       "      <th>10</th>\n",
       "      <td>CR113</td>\n",
       "      <td>Sony</td>\n",
       "      <td>76</td>\n",
       "      <td>1</td>\n",
       "      <td>11</td>\n",
       "      <td>3</td>\n",
       "    </tr>\n",
       "    <tr>\n",
       "      <th>11</th>\n",
       "      <td>CR114</td>\n",
       "      <td>Apple</td>\n",
       "      <td>24</td>\n",
       "      <td>1</td>\n",
       "      <td>11</td>\n",
       "      <td>4</td>\n",
       "    </tr>\n",
       "  </tbody>\n",
       "</table>\n",
       "</div>"
      ],
      "text/plain": [
       "    ecode    ename eval cr  fa al\n",
       "0   CR111  Samsung   26  1  11  1\n",
       "1   CR112       LG   74  1  11  2\n",
       "2   CR111  Samsung   63  1  11  1\n",
       "3   CR113     Sony   37  1  11  3\n",
       "4   CR111  Samsung   27  1  11  1\n",
       "5   CR114    Apple   73  1  11  4\n",
       "6   CR112       LG   27  1  11  2\n",
       "7   CR113     Sony   73  1  11  3\n",
       "8   CR112       LG   64  1  11  2\n",
       "9   CR114    Apple   36  1  11  4\n",
       "10  CR113     Sony   76  1  11  3\n",
       "11  CR114    Apple   24  1  11  4"
      ]
     },
     "execution_count": 12,
     "metadata": {},
     "output_type": "execute_result"
    }
   ],
   "source": [
    "df_al.head(12)"
   ]
  },
  {
   "cell_type": "code",
   "execution_count": 19,
   "metadata": {},
   "outputs": [],
   "source": [
    "group_cnt = df_al.groupby(['fa']).size()"
   ]
  },
  {
   "cell_type": "code",
   "execution_count": 37,
   "metadata": {},
   "outputs": [
    {
     "data": {
      "text/html": [
       "<div>\n",
       "<style>\n",
       "    .dataframe thead tr:only-child th {\n",
       "        text-align: right;\n",
       "    }\n",
       "\n",
       "    .dataframe thead th {\n",
       "        text-align: left;\n",
       "    }\n",
       "\n",
       "    .dataframe tbody tr th {\n",
       "        vertical-align: top;\n",
       "    }\n",
       "</style>\n",
       "<table border=\"1\" class=\"dataframe\">\n",
       "  <thead>\n",
       "    <tr style=\"text-align: right;\">\n",
       "      <th></th>\n",
       "      <th>ecode</th>\n",
       "      <th>ename</th>\n",
       "      <th>eval</th>\n",
       "      <th>cr</th>\n",
       "      <th>fa</th>\n",
       "      <th>al</th>\n",
       "    </tr>\n",
       "  </thead>\n",
       "  <tbody>\n",
       "    <tr>\n",
       "      <th>0</th>\n",
       "      <td>CR111</td>\n",
       "      <td>Samsung</td>\n",
       "      <td>26</td>\n",
       "      <td>1</td>\n",
       "      <td>11</td>\n",
       "      <td>1</td>\n",
       "    </tr>\n",
       "    <tr>\n",
       "      <th>1</th>\n",
       "      <td>CR112</td>\n",
       "      <td>LG</td>\n",
       "      <td>74</td>\n",
       "      <td>1</td>\n",
       "      <td>11</td>\n",
       "      <td>2</td>\n",
       "    </tr>\n",
       "    <tr>\n",
       "      <th>2</th>\n",
       "      <td>CR111</td>\n",
       "      <td>Samsung</td>\n",
       "      <td>63</td>\n",
       "      <td>1</td>\n",
       "      <td>11</td>\n",
       "      <td>1</td>\n",
       "    </tr>\n",
       "    <tr>\n",
       "      <th>3</th>\n",
       "      <td>CR113</td>\n",
       "      <td>Sony</td>\n",
       "      <td>37</td>\n",
       "      <td>1</td>\n",
       "      <td>11</td>\n",
       "      <td>3</td>\n",
       "    </tr>\n",
       "    <tr>\n",
       "      <th>4</th>\n",
       "      <td>CR111</td>\n",
       "      <td>Samsung</td>\n",
       "      <td>27</td>\n",
       "      <td>1</td>\n",
       "      <td>11</td>\n",
       "      <td>1</td>\n",
       "    </tr>\n",
       "    <tr>\n",
       "      <th>5</th>\n",
       "      <td>CR114</td>\n",
       "      <td>Apple</td>\n",
       "      <td>73</td>\n",
       "      <td>1</td>\n",
       "      <td>11</td>\n",
       "      <td>4</td>\n",
       "    </tr>\n",
       "    <tr>\n",
       "      <th>6</th>\n",
       "      <td>CR112</td>\n",
       "      <td>LG</td>\n",
       "      <td>27</td>\n",
       "      <td>1</td>\n",
       "      <td>11</td>\n",
       "      <td>2</td>\n",
       "    </tr>\n",
       "    <tr>\n",
       "      <th>7</th>\n",
       "      <td>CR113</td>\n",
       "      <td>Sony</td>\n",
       "      <td>73</td>\n",
       "      <td>1</td>\n",
       "      <td>11</td>\n",
       "      <td>3</td>\n",
       "    </tr>\n",
       "    <tr>\n",
       "      <th>8</th>\n",
       "      <td>CR112</td>\n",
       "      <td>LG</td>\n",
       "      <td>64</td>\n",
       "      <td>1</td>\n",
       "      <td>11</td>\n",
       "      <td>2</td>\n",
       "    </tr>\n",
       "    <tr>\n",
       "      <th>9</th>\n",
       "      <td>CR114</td>\n",
       "      <td>Apple</td>\n",
       "      <td>36</td>\n",
       "      <td>1</td>\n",
       "      <td>11</td>\n",
       "      <td>4</td>\n",
       "    </tr>\n",
       "    <tr>\n",
       "      <th>10</th>\n",
       "      <td>CR113</td>\n",
       "      <td>Sony</td>\n",
       "      <td>76</td>\n",
       "      <td>1</td>\n",
       "      <td>11</td>\n",
       "      <td>3</td>\n",
       "    </tr>\n",
       "    <tr>\n",
       "      <th>11</th>\n",
       "      <td>CR114</td>\n",
       "      <td>Apple</td>\n",
       "      <td>24</td>\n",
       "      <td>1</td>\n",
       "      <td>11</td>\n",
       "      <td>4</td>\n",
       "    </tr>\n",
       "  </tbody>\n",
       "</table>\n",
       "</div>"
      ],
      "text/plain": [
       "    ecode    ename eval cr  fa al\n",
       "0   CR111  Samsung   26  1  11  1\n",
       "1   CR112       LG   74  1  11  2\n",
       "2   CR111  Samsung   63  1  11  1\n",
       "3   CR113     Sony   37  1  11  3\n",
       "4   CR111  Samsung   27  1  11  1\n",
       "5   CR114    Apple   73  1  11  4\n",
       "6   CR112       LG   27  1  11  2\n",
       "7   CR113     Sony   73  1  11  3\n",
       "8   CR112       LG   64  1  11  2\n",
       "9   CR114    Apple   36  1  11  4\n",
       "10  CR113     Sony   76  1  11  3\n",
       "11  CR114    Apple   24  1  11  4"
      ]
     },
     "execution_count": 37,
     "metadata": {},
     "output_type": "execute_result"
    }
   ],
   "source": [
    "df_al[df_al['fa']=='11']"
   ]
  },
  {
   "cell_type": "code",
   "execution_count": 21,
   "metadata": {},
   "outputs": [
    {
     "data": {
      "text/plain": [
       "fa\n",
       "11    12\n",
       "12    12\n",
       "13    12\n",
       "21    12\n",
       "22    12\n",
       "23    12\n",
       "24    12\n",
       "31    12\n",
       "32    12\n",
       "33    12\n",
       "dtype: int64"
      ]
     },
     "execution_count": 21,
     "metadata": {},
     "output_type": "execute_result"
    }
   ],
   "source": [
    "group_cnt"
   ]
  },
  {
   "cell_type": "code",
   "execution_count": null,
   "metadata": {
    "collapsed": true
   },
   "outputs": [],
   "source": []
  }
 ],
 "metadata": {
  "kernelspec": {
   "display_name": "Python 3",
   "language": "python",
   "name": "python3"
  },
  "language_info": {
   "codemirror_mode": {
    "name": "ipython",
    "version": 3
   },
   "file_extension": ".py",
   "mimetype": "text/x-python",
   "name": "python",
   "nbconvert_exporter": "python",
   "pygments_lexer": "ipython3",
   "version": "3.6.1"
  }
 },
 "nbformat": 4,
 "nbformat_minor": 2
}
