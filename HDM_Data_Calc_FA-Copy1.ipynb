{
 "cells": [
  {
   "cell_type": "code",
   "execution_count": 2,
   "metadata": {
    "collapsed": true
   },
   "outputs": [],
   "source": [
    "import pandas as pd\n",
    "import numpy as np\n",
    "import json"
   ]
  },
  {
   "cell_type": "code",
   "execution_count": 3,
   "metadata": {
    "collapsed": true
   },
   "outputs": [],
   "source": [
    "def make_list(temp):\n",
    "    temp_list = temp.split(\"|\")\n",
    "    list = []\n",
    "    for tl in temp_list:\n",
    "        list.append(tl.split(\",\"))\n",
    "    return list\n"
   ]
  },
  {
   "cell_type": "code",
   "execution_count": 12,
   "metadata": {
    "collapsed": true
   },
   "outputs": [],
   "source": [
    "str_cr = 'CR10,Color,24|CR20,Memory,76|CR10,Color,72|CR30,Delivery,28|CR20,Memory,37|CR30,Delivery,63'\n",
    "str_fa = 'CR11,Pink,27|CR12,Blue,73|CR11,Pink,71|CR13,Yellow,29|CR12,Blue,30|CR13,Yellow,70|CR21,16GB,32|CR22,32GB,68|CR21,16GB,31|CR23,64GB,69|CR21,16GB,62|CR24,128GB,38|CR22,32GB,56|CR23,64GB,44|CR22,32GB,50|CR24,128GB,50|CR23,64GB,57|CR24,128GB,43|CR31,USPS,27|CR32,UPS,73|CR31,USPS,67|CR33,FedEx,33|CR32,UPS,30|CR33,FedEx,70'"
   ]
  },
  {
   "cell_type": "code",
   "execution_count": 13,
   "metadata": {
    "collapsed": true
   },
   "outputs": [],
   "source": [
    "cr_list = make_list(str_cr)\n",
    "fa_list = make_list(str_fa)"
   ]
  },
  {
   "cell_type": "code",
   "execution_count": 15,
   "metadata": {
    "collapsed": true
   },
   "outputs": [],
   "source": [
    "df_cr = pd.DataFrame(cr_list)\n",
    "df_fa = pd.DataFrame(fa_list)"
   ]
  },
  {
   "cell_type": "code",
   "execution_count": 16,
   "metadata": {
    "collapsed": true
   },
   "outputs": [],
   "source": [
    "df_cr.columns = ['ecode', 'ename', 'eval']\n",
    "df_fa.columns = ['ecode', 'ename', 'eval']"
   ]
  },
  {
   "cell_type": "code",
   "execution_count": 28,
   "metadata": {},
   "outputs": [
    {
     "data": {
      "text/plain": [
       "<pandas.core.groupby.DataFrameGroupBy object at 0x000002377CFE1DD8>"
      ]
     },
     "execution_count": 28,
     "metadata": {},
     "output_type": "execute_result"
    }
   ],
   "source": [
    "df_cr"
   ]
  },
  {
   "cell_type": "code",
   "execution_count": 25,
   "metadata": {
    "collapsed": true
   },
   "outputs": [],
   "source": [
    "df_cr['cr'] = df_cr['ecode'].str[2]"
   ]
  },
  {
   "cell_type": "code",
   "execution_count": 27,
   "metadata": {
    "collapsed": true
   },
   "outputs": [],
   "source": [
    "df_cr = df_cr.groupby(['cr', 'ename'], as_index=False)"
   ]
  },
  {
   "cell_type": "code",
   "execution_count": 8,
   "metadata": {
    "collapsed": true
   },
   "outputs": [],
   "source": [
    "df_fa['cr'] = df_fa['ecode'].str[-2]\n",
    "df_fa['fa'] = df_fa['ecode'].str[-1]\n",
    "df_fa['eval'] = df_fa['eval'].astype(int)"
   ]
  },
  {
   "cell_type": "code",
   "execution_count": 9,
   "metadata": {
    "collapsed": true
   },
   "outputs": [],
   "source": [
    "df_fa['eval'] = df_fa['eval'].astype(int)"
   ]
  }
 ],
 "metadata": {
  "anaconda-cloud": {},
  "kernelspec": {
   "display_name": "Python [default]",
   "language": "python",
   "name": "python3"
  },
  "language_info": {
   "codemirror_mode": {
    "name": "ipython",
    "version": 3
   },
   "file_extension": ".py",
   "mimetype": "text/x-python",
   "name": "python",
   "nbconvert_exporter": "python",
   "pygments_lexer": "ipython3",
   "version": "3.5.2"
  }
 },
 "nbformat": 4,
 "nbformat_minor": 1
}
